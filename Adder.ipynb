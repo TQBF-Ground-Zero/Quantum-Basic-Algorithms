{
 "cells": [
  {
   "cell_type": "markdown",
   "id": "dc9e6d3c",
   "metadata": {},
   "source": [
    "## Somando dois números inteiros em circuitos quânticos\n",
    "# QFT ADDER usando Qiskit\n",
    "\n",
    "<div class=\"alert alert-block alert-info\">\n",
    "    \n",
    "Construindo um Adder Step by Step\n",
    "</div>\n",
    "\n",
    "Importando biblioteca básica"
   ]
  },
  {
   "cell_type": "code",
   "execution_count": 95,
   "id": "f0c1e977",
   "metadata": {},
   "outputs": [],
   "source": [
    "import numpy as np\n",
    "from qiskit import Aer, QuantumCircuit, QuantumRegister, ClassicalRegister, execute\n",
    "from qiskit.circuit.library import QFT, DraperQFTAdder\n",
    "from qiskit.visualization import *"
   ]
  },
  {
   "cell_type": "markdown",
   "id": "dc3363ca",
   "metadata": {},
   "source": [
    "<div class=\"alert alert-block alert-danger\">\n",
    "\n",
    "<p style=\"font-size:20px\">\n",
    "É importante notar que:\n",
    "</p>\n",
    "\n",
    "\n",
    "- O circuito mostrado aqui é geralmente utilizado como subrotina de outros algoritmos\n",
    "- Existe uma função pronta no qiskit para fazer esse tipo de operação. \n",
    "- Não precisamos criá-la.\n",
    "- O intuito é aqui é entender a contrução do algoritmo\n",
    "</div>"
   ]
  },
  {
   "cell_type": "code",
   "execution_count": 47,
   "id": "3a771df7",
   "metadata": {},
   "outputs": [
    {
     "data": {
      "image/png": "[encoded data removed]",
      "text/plain": [
       "<Figure size 116.697x325.08 with 1 Axes>"
      ]
     },
     "execution_count": 47,
     "metadata": {},
     "output_type": "execute_result"
    }
   ],
   "source": [
    "#Definindo números que iremos somar\n",
    "\n",
    "a = 2\n",
    "b = 3\n",
    "na = len(format(a,'0b'))\n",
    "nb = len(format(b, '0b'))\n",
    "\n",
    "\n",
    "qa = QuantumRegister(na, 'a')\n",
    "qb = QuantumRegister(nb, 'b')\n",
    "cr = ClassicalRegister(nb, 'c')\n",
    "qc = QuantumCircuit(qa,qb,cr)\n",
    "\n",
    "qc.draw('mpl')"
   ]
  },
  {
   "cell_type": "markdown",
   "id": "a9d14f43",
   "metadata": {},
   "source": [
    "Inicializando o circuito com os números a serem somados.\n",
    "\n",
    "Note que:\n",
    "\n",
    "- $a = 2$ e sua representação binária é `010`\n",
    "- $b = 3$ e sua representação binária é `011`\n",
    "- No entanto, na hora de fazer colocar no qiskit precisamos inverter a ordem, ou seja $3 \\to $ `110`.\n",
    "- Isso é necessário devido ao ordenamento utilizado no qiskit. A contagem dos qubits inicia-se da direita para esquerda, ou seja $\\vert q_2q_1q_0\\rangle$\n",
    "\n",
    "<div class=\"alert alert-block alert-success\">\n",
    "\n",
    "_Step 1:_\n",
    "\n",
    "Inicializar o circuito com $a$ no QuantumRegister $q_a$ e o número $b$ no QuantumRegister $q_b$\n",
    "<\\div>"
   ]
  },
  {
   "cell_type": "code",
   "execution_count": 138,
   "id": "f5cac22b",
   "metadata": {},
   "outputs": [
    {
     "name": "stdout",
     "output_type": "stream",
     "text": [
      "0 0 1\n",
      "1 0 1\n",
      "2 0 1\n",
      "3 1 1\n"
     ]
    },
    {
     "data": {
      "image/png": "[encoded data removed]",
      "text/plain": [
       "<Figure size 146.943x565.88 with 1 Axes>"
      ]
     },
     "execution_count": 138,
     "metadata": {},
     "output_type": "execute_result"
    }
   ],
   "source": [
    "a = 8\n",
    "b = 5\n",
    "n = len(format(a+b,'0b')) #número de qubits necessários para construir o adder\n",
    "\n",
    "\n",
    "na = len(format(a,'0b'))\n",
    "nb = len(format(b, '0'+str(n)+'b'))\n",
    "\n",
    "\n",
    "qa = QuantumRegister(na, 'a')\n",
    "qb = QuantumRegister(nb, 'b')\n",
    "cr = ClassicalRegister(nb, 'c')\n",
    "qc = QuantumCircuit(qa,qb,cr)\n",
    "\n",
    "\n",
    "\n",
    "#######################################\n",
    "\n",
    "\n",
    "a_bin = format(a, '0b')[::-1]\n",
    "b_bin = format(b, '0b')[::-1]\n",
    "\n",
    "# for i, (j,k) in enumerate(zip(a_bin, b_bin)):\n",
    "for i,j in enumerate(a_bin):\n",
    "    print(i,j,k)\n",
    "    if j == '1':\n",
    "        qc.x(qa[i])\n",
    "for i,k in enumerate(b_bin):\n",
    "    if k == '1':\n",
    "        qc.x(qb[i])\n",
    "qc.draw('mpl')"
   ]
  },
  {
   "cell_type": "markdown",
   "id": "8984b063",
   "metadata": {},
   "source": [
    "<div class=\"alert alert-block alert-success\">\n",
    "\n",
    "\n",
    "_Step 2:_ Adder\n",
    "\n",
    "Inicializar o circuito com $a$ no QuantumRegister $q_a$ e o número $b$ no QuantumRegister $q_b$\n",
    "<\\div>\n",
    "Agora vamos realizar a operação de adição usando a própria função do qiskit.\n",
    "\n",
    "- O que essa funçao faz é entrar com o registro $\\vert a \\rangle \\vert b \\rangle \\rightarrow^{ADDER} \\to \\vert a\\rangle \\vert a + b\\rangle$\n",
    "- Ao medir o registro $b$ teremos a representação binária da soma $a$ + $b$\n",
    "\n"
   ]
  },
  {
   "cell_type": "code",
   "execution_count": 139,
   "id": "9d8905d6-5082-4dd1-babb-0b8ec5036642",
   "metadata": {},
   "outputs": [
    {
     "data": {
      "image/png": "[encoded data removed]",
      "text/plain": [
       "<Figure size 327.543x565.88 with 1 Axes>"
      ]
     },
     "execution_count": 139,
     "metadata": {},
     "output_type": "execute_result"
    }
   ],
   "source": [
    "qc_adder = DraperQFTAdder(n)\n",
    "\n",
    "qc += qc_adder\n",
    "\n",
    "qc.draw('mpl')"
   ]
  },
  {
   "cell_type": "markdown",
   "id": "90692761",
   "metadata": {},
   "source": [
    "<div class=\"alert alert-block alert-success\">\n",
    "\n",
    "_Step 3:_ Medição\n",
    "    \n",
    "- Ao medir o registro $b$, que agora se transforou em $\\vert a + b\\rangle$, esperamos encontrar a representação binária de $3 + 2 = 5$ que é  `101`\n",
    "\n",
    "- Para obter o resultado em números inteiros, basta aplicar o mapa _binary_ $\\to$ _Integer_\n",
    " "
   ]
  },
  {
   "cell_type": "markdown",
   "id": "ab0536dd",
   "metadata": {},
   "source": [
    "   \n",
    "1. QFT\n",
    "    \n",
    "    Dado o estado: $\\vert x \\rangle \\equiv \\vert \\vec{x} \\rangle\\equiv \\vert x_0 x_1 x_2 \\dots x_{n-1}\\rangle $\n",
    "    \n",
    "    A operação $QFT$ atua da seguinte forma:\n",
    "    \n",
    "    $$\\vert \\tilde x \\rangle = QFT \\vert x \\rangle$$\n",
    "    \n",
    "    Onde,\n",
    "    $$QFT \\equiv \\sum_{y = 0}^{N - 1} e^{\\frac{2\\pi i x y}{N}} \\vert y\\rangle$$\n",
    "    \n",
    "    onde $N = 2^n$ e $n$ é igual ao número de qubits do nosso problem.\n",
    "    \n",
    "    Abrindo um pouquinho a expressão acima temos:\n",
    "    $$\\vert \\tilde x \\rangle = e^{\\frac{2\\pi i x.0}{N}}\\vert 0 \\rangle + e^{\\frac{2\\pi i x.1}{N}}\\vert 1 \\rangle + e^{\\frac{2\\pi i x.2}{N}}\\vert 2 \\rangle+ \\dots + e^{\\frac{2\\pi i x.(N-1)}{N}}\\vert N-1 \\rangle$$\n",
    "    \n",
    "    Onde cada estado acima é a representação inteira de uma string binária, como exemplificado abaixo:\n",
    "    \n",
    "    $$\\vert 0 \\rangle \\equiv \\vert 0_{0}0_1 \\dots 0_{N - 1} \\rangle$$\n",
    "    $$\\vert 1 \\rangle \\equiv \\vert 1_{0} 0_1 \\dots 0_{N - 1} \\rangle$$\n",
    "    $$\\dots$$\n",
    "    $$\\vert N - 1 \\rangle \\equiv \\vert 1_{0} 1_1 \\dots 1_{N - 1} \\rangle$$\n",
    "\n",
    "2. Reescrevendo a expressão do QFT.\n",
    "    Uma vez que $\\vert y \\rangle = \\vert y_{0} y_1 y_2 \\dots y_{N-1} \\rangle$, onde $y$ é a presentação inteira da representção binária $\\vert y_{0} y_1 y_2 \\dots y_{N-1} \\rangle$.\n",
    "    \n",
    "    Temos:\n",
    "    \n",
    "    $$y = 2^{n - 1}y_{0} + 2^{n - 2}y_{1} + \\dots + 2^{0}y_{n - 1}$$\n",
    "    \n",
    "    Podemos então reescrever o somário do $QFT$ como sendo:\n",
    "    \n",
    "    $$\\sum_{y = 0}^{N - 1} \\to \\sum_{y_0 = 0}^{1} \\sum_{y_1 = 0}^{1} \\sum_{y_2 = 0}^{1} \\dots \\sum_{y_{N -1} = 0}^{1}$$\n",
    "\n",
    "    Nossa expressão para o QFT pode ser então reescrita como:\n",
    "    \n",
    "    $$\\vert \\tilde x \\rangle = \\sum_{y_0 = 0}^{1} \\sum_{y_1 = 0}^{1} \\sum_{y_2 = 0}^{1} \\dots \\sum_{y_{N -1} = 0}^{1} e^{\\frac{2\\pi i x}{2^n} \\sum_{k = 0}^{n-1} 2^{n-k-1} y_{k}} \\vert y_0\\rangle \\otimes \\vert y_1\\rangle \\otimes \\dots\\otimes \\vert y_{n -1} \\rangle$$\n",
    "    \n",
    "    Note que:\n",
    "    \n",
    "    $$ e^{\\frac{2\\pi i x}{2^n} \\sum_{k = 0}^{n-1} 2^{n-k-1} y_{k}} = e^{\\frac{2\\pi i x 2^n}{2^n} \\sum_{k = 0}^{n-1}\\frac{y_{k}}{2^{k + 1}}} = e^{2\\pi i x \\sum_{k = 0}^{n-1}\\frac{y_{k}}{2^{k + 1}}}$$  \n",
    "    Portanto,\n",
    "    \n",
    "    $$e^{\\frac{2\\pi i x 2^n}{2^n} \\left[\\frac{y_{0}}{2^{1}} + \\frac{y_{1}}{2^{2}} + \\dots + \\frac{y_{n - 1}}{2^{n}} \\right]} = \\prod_{k=0}^{n-1} e^{\\frac{2 \\pi i x y_k}{2^{k + 1}}}$$\n",
    "    \n",
    "    \n",
    "   \n",
    "    \n",
    "    \n",
    "</div>  "
   ]
  },
  {
   "cell_type": "code",
   "execution_count": 140,
   "id": "78caaa82-f409-42c5-9fa8-1bd082d7f3b6",
   "metadata": {},
   "outputs": [
    {
     "data": {
      "image/png": "[encoded data removed]",
      "text/plain": [
       "<Figure size 1471.34x565.88 with 1 Axes>"
      ]
     },
     "execution_count": 140,
     "metadata": {},
     "output_type": "execute_result"
    }
   ],
   "source": [
    "qc.measure(qb,cr)\n",
    "qc.decompose().draw('mpl')"
   ]
  },
  {
   "cell_type": "code",
   "execution_count": 141,
   "id": "56232a22",
   "metadata": {
    "scrolled": true
   },
   "outputs": [
    {
     "name": "stdout",
     "output_type": "stream",
     "text": [
      "O resultado da soma é 1101 que é a represenção binária do número 13\n"
     ]
    },
    {
     "data": {
      "image/png": "[encoded data removed]",
      "text/plain": [
       "<Figure size 216x216 with 1 Axes>"
      ]
     },
     "execution_count": 141,
     "metadata": {},
     "output_type": "execute_result"
    }
   ],
   "source": [
    "backend = Aer.get_backend('statevector_simulator')\n",
    "result = execute(qc, backend).result().get_counts()\n",
    "soma = list(result.keys())[0]\n",
    "# soma =  int(soma,2)\n",
    "print(f'O resultado da soma é {soma} que é a represenção binária do número {int(soma,2)}')\n",
    "plot_histogram(result, figsize=(3,3))"
   ]
  },
  {
   "cell_type": "markdown",
   "id": "fc96fcf8",
   "metadata": {},
   "source": [
    "### Construindo ADDER Step by Step\n",
    "\n",
    "**_Vamos primeiro construir os building blocks para depois juntar as peças_**\n",
    "\n",
    "<div class=\"alert alert-block alert-info\">\n",
    "\n",
    "**_Step 1:_** Quantum Fourier Transform (QFT) and Inverse QFT\n",
    "    \n",
    "- Contruir circuito de $QFT$ e $QFT^{-1}$\n",
    "\n",
    "</div>  \n",
    "\n"
   ]
  },
  {
   "cell_type": "markdown",
   "id": "f2b1b3ca",
   "metadata": {},
   "source": [
    "1. QFT (um pouco da teoria)\n",
    "    \n",
    "    Dado o estado: $\\vert x \\rangle \\equiv \\vert \\vec{x} \\rangle\\equiv \\vert x_0 x_1 x_2 \\dots x_{n-1}\\rangle $\n",
    "    \n",
    "    A operação $QFT$ atua da seguinte forma:\n",
    "    \n",
    "    $$\\vert \\tilde x \\rangle = QFT \\vert x \\rangle$$\n",
    "    \n",
    "    Onde,\n",
    "    $$QFT \\equiv \\frac{1}{\\sqrt{N}}\\sum_{y = 0}^{N - 1} e^{\\frac{2\\pi i x y}{N}} \\vert y\\rangle$$\n",
    "    \n",
    "    onde $N = 2^n$ e $n$ é igual ao número de qubits do nosso problem.\n",
    "    \n",
    "    Abrindo um pouquinho a expressão acima temos:\n",
    "    $$\\vert \\tilde x \\rangle =  \\frac{1}{\\sqrt{N}}\\left( e^{\\frac{2\\pi i x.0}{N}}\\vert 0 \\rangle + e^{\\frac{2\\pi i x.1}{N}}\\vert 1 \\rangle + e^{\\frac{2\\pi i x.2}{N}}\\vert 2 \\rangle+ \\dots + e^{\\frac{2\\pi i x.(N-1)}{N}}\\vert N-1 \\rangle \\right)$$\n",
    "    \n",
    "    Onde cada estado acima é a representação inteira de uma string binária, como exemplificado abaixo:\n",
    "    \n",
    "    $$\\vert 0 \\rangle \\equiv \\vert 0_{0}0_1 \\dots 0_{N - 1} \\rangle$$\n",
    "    $$\\vert 1 \\rangle \\equiv \\vert 1_{0} 0_1 \\dots 0_{N - 1} \\rangle$$\n",
    "    $$\\dots$$\n",
    "    $$\\vert N - 1 \\rangle \\equiv \\vert 1_{0} 1_1 \\dots 1_{N - 1} \\rangle$$\n",
    "\n",
    "2. Reescrevendo a expressão do QFT.\n",
    "    Uma vez que $\\vert y \\rangle = \\vert y_{0} y_1 y_2 \\dots y_{N-1} \\rangle$, onde $y$ é a presentação inteira da representção binária $\\vert y_{0} y_1 y_2 \\dots y_{N-1} \\rangle$.\n",
    "    \n",
    "    Temos:\n",
    "    \n",
    "    $$y = 2^{n - 1}y_{0} + 2^{n - 2}y_{1} + \\dots + 2^{0}y_{n - 1}$$\n",
    "    \n",
    "    Podemos então reescrever o somário do $QFT$ como sendo:\n",
    "    \n",
    "    $$\\sum_{y = 0}^{N - 1} \\to \\sum_{y_0 = 0}^{1} \\sum_{y_1 = 0}^{1} \\sum_{y_2 = 0}^{1} \\dots \\sum_{y_{N -1} = 0}^{1}$$\n",
    "\n",
    "    Nossa expressão para o QFT pode ser então reescrita como:\n",
    "    \n",
    "    $$\\vert \\tilde x \\rangle = \\sum_{y_0 = 0}^{1} \\sum_{y_1 = 0}^{1} \\sum_{y_2 = 0}^{1} \\dots \\sum_{y_{N -1} = 0}^{1} e^{\\frac{2\\pi i x}{2^n} \\sum_{k = 0}^{n-1} 2^{n-k-1} y_{k}} \\vert y_0\\rangle \\otimes \\vert y_1\\rangle \\otimes \\dots\\otimes \\vert y_{n -1} \\rangle$$\n",
    "    \n",
    "    Note que:\n",
    "    \n",
    "    $$ e^{\\frac{2\\pi i x}{2^n} \\sum_{k = 0}^{n-1} 2^{n-k-1} y_{k}} = e^{\\frac{2\\pi i x 2^n}{2^n} \\sum_{k = 0}^{n-1}\\frac{y_{k}}{2^{k + 1}}} = e^{2\\pi i x \\sum_{k = 0}^{n-1}\\frac{y_{k}}{2^{k + 1}}}$$  \n",
    "    Portanto,\n",
    "    \n",
    "    $$e^{\\frac{2\\pi i x 2^n}{2^n} \\left[\\frac{y_{0}}{2^{1}} + \\frac{y_{1}}{2^{2}} + \\dots + \\frac{y_{n - 1}}{2^{n}} \\right]} = \\prod_{k=0}^{n-1} e^{\\frac{2 \\pi i x y_k}{2^{k + 1}}}$$\n",
    "    \n",
    "    Podemos agora reescrever nossa função final para $QFT$:\n",
    "    \n",
    "    $$\\vert \\tilde x \\rangle =  \\frac{1}{\\sqrt{N}} \\sum_{y_0 = 0}^{1} e^{\\frac{2 \\pi i x y_0}{2^{1}}}\\vert y_0 \\rangle \\otimes \\sum_{y_1 = 0}^{1} e^{\\frac{2 \\pi i x y_1}{2^{2}}} \\vert y_1 \\rangle \\otimes \\sum_{y_2 = 0}^{1} e^{\\frac{2 \\pi i x y_2}{2^{3}}} \\vert y_2 \\rangle \\otimes \\dots \\otimes \\sum_{y_{n -1}}^{1} e^{\\frac{2 \\pi i x y_{n-1}}{2^{n}}} \\vert y_{n-1} \\rangle$$\n",
    "    \n",
    "    Podemos abrir cada um dos somatórios acima e finalmente chegamos à seguinte expressão:\n",
    "    \n",
    "    $$\\vert \\tilde x \\rangle =  \\frac{1}{\\sqrt{N}} \\left[\\vert 0 \\rangle + e^{\\frac{2 \\pi i x}{2^{1}}}  \\vert 1 \\rangle \\right]\\otimes \\left[\\vert 0 \\rangle + e^{\\frac{2 \\pi i x}{2^{2}}}  \\vert 1 \\rangle \\right]\\otimes \\dots \\otimes \\left[\\vert 0 \\rangle + e^{\\frac{2 \\pi i x}{2^{n}}}  \\vert 1 \\rangle \\right]$$\n",
    "    \n",
    "    Podemos interpretar cada elemento entre $[\\dots]$ como sendo um elemento do estado $\\vert \\tilde x \\rangle$, tal que:\n",
    "    \n",
    "    $$\\vert \\tilde x_1 \\rangle =  \\frac{1}{\\sqrt{2}}\\left[\\vert 0 \\rangle + e^{\\frac{2 \\pi i x}{2^{1}}}  \\vert 1 \\rangle \\right] $$\n",
    "    $$\\vert \\tilde x_2 \\rangle =  \\frac{1}{\\sqrt{2}}\\left[\\vert 0 \\rangle + e^{\\frac{2 \\pi i x}{2^{2}}}  \\vert 1 \\rangle \\right] $$\n",
    "    $$\\dots$$\n",
    "    $$\\vert \\tilde x_n \\rangle =  \\frac{1}{\\sqrt{2}}\\left[\\vert 0 \\rangle + e^{\\frac{2 \\pi i x}{2^{n}}}  \\vert 1 \\rangle \\right] $$\n",
    "    \n",
    "    \n",
    "    \n",
    "   \n",
    "    \n",
    "    \n"
   ]
  },
  {
   "cell_type": "markdown",
   "id": "bebc7231",
   "metadata": {},
   "source": [
    "\n",
    "<div class=\"alert alert-block alert-info\">\n",
    "\n",
    "**Como contruir (QFT) em um circuito quântico ?**\n",
    "    \n",
    "   Para isso, vamos definiar dois Gates:\n",
    "   1. Hadamard\n",
    "   \n",
    "   $$H\\vert x_k \\rangle = \\frac{1}{\\sqrt{2}}\\left(\\vert0\\rangle + \\exp\\left(\\frac{2\\pi i}{2}x_k\\right)\\vert1\\rangle\\right)$$\n",
    "\n",
    "\n",
    "   2. CROT_k é uma rotação controlada - gate de dois qubits\n",
    "\n",
    "$$CROT_k\\equiv CP_k = \\left[\\begin{matrix}\n",
    "I&0\\\\\n",
    "0&UROT_k\\\\\n",
    "\\end{matrix}\\right]$$\n",
    "\n",
    "onde \n",
    "\n",
    "$$UROT_k\\equiv P(\\lambda) = \\left[\\begin{matrix}\n",
    "1&0\\\\\n",
    "0&\\exp\\left(i\\lambda_k\\right)\\\\\n",
    "\\end{matrix}\\right]$$\n",
    "\n",
    "onde $P(\\lambda_k)\\to$ Phase Gate e  $$\\lambda_k = \\frac{2\\pi}{2^k}$$\n",
    "    \n",
    "A ação de $CROT_k$ em um estado de dois qubtis $\\vert x_l x_j\\rangle$ onde o primeiro qubit é o controle e o segundo é o target. \n",
    "\n",
    "\n",
    "\n",
    "$$CROT_k\\vert 0x_j\\rangle = \\vert 0x_j\\rangle$$\n",
    "\n",
    "\n",
    "e\n",
    "\n",
    "\n",
    "$$CROT_k\\vert 1x_j\\rangle = \\exp\\left( \\frac{2\\pi i}{2^k}x_j \\right)\\vert 1x_j\\rangle$$\n",
    "\n",
    "\n",
    "    \n",
    "</div> \n",
    "\n",
    "### Para exemplificar a construção do algoritmo $QFT$ vamos olhar para um estado de $3$ qubits\n",
    "\n",
    "Vamos calcular a Transforma de Fourier para o estado $\\vert x_3x_2x_1\\rangle$ dada por $\\vert \\tilde x_3 \\tilde x_2 \\tilde x_1\\rangle = QFT\\vert x_3x_2x_1\\rangle$:\n",
    "\n",
    "<ol>\n",
    "<li> Aplicar Hadamard em $\\vert x_1 \\rangle$\n",
    "\n",
    "$$\n",
    "|\\psi_1\\rangle = \n",
    "\\vert x_3\\rangle\n",
    "\\otimes\n",
    "\\vert x_2\\rangle\n",
    "\\otimes\n",
    "\\frac{1}{\\sqrt{2}}\n",
    "\\left[\n",
    "\\vert0\\rangle + \n",
    "\\exp\\left(\\frac{2\\pi i}{2}x_1\\right) \n",
    "\\vert1\\rangle\\right]\n",
    "$$\n",
    "\n",
    "<li> Aplicar $UROT_2$ em $\\vert x_1\\rangle$ controlado por $\\vert x_2\\rangle$\n",
    "\n",
    "$$\n",
    "|\\psi_2\\rangle = \n",
    "\\vert x_3\\rangle\n",
    "\\otimes\n",
    "\\vert x_2\\rangle\n",
    "\\otimes\n",
    "\\frac{1}{\\sqrt{2}}\n",
    "\\left[\n",
    "\\vert0\\rangle + \n",
    "\\exp\\left(\n",
    "\\frac{2\\pi i}{2^2}x_2 + \\frac{2\\pi i}{2}x_1\n",
    "\\right) \n",
    "\\vert1\\rangle\\right]\n",
    "$$\n",
    "\n",
    "<li> Aplicar $UROT_3$ em $\\vert x_1\\rangle$ controlado por $\\vert x_3\\rangle$\n",
    "\n",
    "$$\n",
    "|\\psi_3\\rangle = \n",
    "\\vert x_3\\rangle\n",
    "\\otimes\n",
    "\\vert x_2\\rangle\n",
    "\\otimes\n",
    "\\frac{1}{\\sqrt{2}}\n",
    "\\left[\n",
    "\\vert0\\rangle + \n",
    "\\exp\\left(\n",
    "\\frac{2\\pi i}{2^3}x_3 + \\frac{2\\pi i}{2^2}x_2 + \\frac{2\\pi i}{2}x_1\n",
    "\\right) \n",
    "\\vert1\\rangle\\right]\n",
    "$$\n",
    "\n",
    "<li> Aplicar Hadamard a $\\vert x_2 \\rangle$\n",
    "\n",
    "$$\n",
    "|\\psi_4\\rangle = \n",
    "\\vert x_3\\rangle\n",
    "\\otimes\n",
    "\\frac{1}{\\sqrt{2}}\n",
    "\\left[\n",
    "\\vert0\\rangle + \n",
    "\\exp\\left(\n",
    "\\frac{2\\pi i}{2}x_2\n",
    "\\right) \n",
    "\\vert1\\rangle\\right]\n",
    "\\otimes\n",
    "\\frac{1}{\\sqrt{2}}\n",
    "\\left[\n",
    "\\vert0\\rangle + \n",
    "\\exp\\left(\n",
    "\\frac{2\\pi i}{2^3}x_3 + \\frac{2\\pi i}{2^2}x_2 + \\frac{2\\pi i}{2}x_1\n",
    "\\right) \n",
    "\\vert1\\rangle\\right]\n",
    "$$\n",
    "\n",
    "<li> Aplicar $UROT_2$ a $\\vert x_2\\rangle$ controlado por $\\vert x_3\\rangle$\n",
    "\n",
    "$$\n",
    "|\\psi_5\\rangle = \n",
    "\\vert x_3\\rangle\n",
    "\\otimes\n",
    "\\frac{1}{\\sqrt{2}}\n",
    "\\left[\n",
    "\\vert0\\rangle + \n",
    "\\exp\\left(\n",
    "\\frac{2\\pi i}{2^2}x_3 + \\frac{2\\pi i}{2}x_2\n",
    "\\right) \n",
    "\\vert1\\rangle\\right]\n",
    "\\otimes\n",
    "\\frac{1}{\\sqrt{2}}\n",
    "\\left[\n",
    "\\vert0\\rangle + \n",
    "\\exp\\left(\n",
    "\\frac{2\\pi i}{2^3}x_3 + \\frac{2\\pi i}{2^2}x_2 + \\frac{2\\pi i}{2}x_1\n",
    "\\right) \n",
    "\\vert1\\rangle\\right]\n",
    "$$\n",
    "\n",
    "<li> Aplicar Hadamard a $\\vert x_3\\rangle$\n",
    "\n",
    "$$\n",
    "|\\psi_6\\rangle = \n",
    "\\frac{1}{\\sqrt{2}}\n",
    "\\left[\n",
    "\\vert0\\rangle + \n",
    "\\exp\\left(\n",
    "\\frac{2\\pi i}{2}x_3\n",
    "\\right) \n",
    "\\vert1\\rangle\\right]\n",
    "\\otimes\n",
    "\\frac{1}{\\sqrt{2}}\n",
    "\\left[\n",
    "\\vert0\\rangle + \n",
    "\\exp\\left(\n",
    "\\frac{2\\pi i}{2^2}x_3 + \\frac{2\\pi i}{2}x_2\n",
    "\\right) \n",
    "\\vert1\\rangle\\right]\n",
    "\\otimes\n",
    "\\frac{1}{\\sqrt{2}}\n",
    "\\left[\n",
    "\\vert0\\rangle + \n",
    "\\exp\\left(\n",
    "\\frac{2\\pi i}{2^3}x_3 + \\frac{2\\pi i}{2^2}x_2 + \\frac{2\\pi i}{2}x_1\n",
    "\\right) \n",
    "\\vert1\\rangle\\right]\n",
    "$$\n",
    "\n",
    "\n",
    "<!-- <li> Keep in mind the reverse order of the output state relative to the desired QFT. Therefore, we must reverse the order of the qubits (in this case swap $y_1$ and $y_3$). -->\n",
    "\n"
   ]
  },
  {
   "cell_type": "code",
   "execution_count": 94,
   "id": "e50e7a0d",
   "metadata": {},
   "outputs": [
    {
     "name": "stdout",
     "output_type": "stream",
     "text": [
      "-----------------------------------------------------\n",
      "Circuito que computa transformada quântica de Fourier\n"
     ]
    },
    {
     "data": {
      "image/png": "[encoded data removed]",
      "text/plain": [
       "<Figure size 1269.12x238.392 with 1 Axes>"
      ]
     },
     "execution_count": 94,
     "metadata": {},
     "output_type": "execute_result"
    }
   ],
   "source": [
    "print(\"-----------------------------------------------------\")\n",
    "print(\"Circuito que computa transformada quântica de Fourier\")\n",
    "\n",
    "n = 4 #números de qubits\n",
    "qr = QuantumRegister(n,'x') #Quantum Register x\n",
    "qc = QuantumCircuit(qr) # Circuito quântico\n",
    "\n",
    "#Aplicando Hadamard e CP (control phase gate) conforme especificado anteriormente\n",
    "for i in range(n-1,-1,-1):\n",
    "    qc.h(i)\n",
    "    for j in range(i-1, -1, -1):\n",
    "        qc.cp(np.pi/(2**(i - j)), i,j)\n",
    "    qc.barrier()\n",
    "for qubit in range(n//2):\n",
    "    qc.swap(qubit, n-qubit-1) #invertendo ordem dos qubits\n",
    "\n",
    "qc.draw('mpl',scale = 0.9, style = 'iqx') #Desenhando circuito"
   ]
  },
  {
   "cell_type": "code",
   "execution_count": 96,
   "id": "9622440c",
   "metadata": {},
   "outputs": [
    {
     "name": "stdout",
     "output_type": "stream",
     "text": [
      "-----------------------------------------------------\n",
      "Circuito que computa transformada quântica de Fourier Inversa\n"
     ]
    },
    {
     "data": {
      "image/png": "[encoded data removed]",
      "text/plain": [
       "<Figure size 1161.54x238.392 with 1 Axes>"
      ]
     },
     "execution_count": 96,
     "metadata": {},
     "output_type": "execute_result"
    }
   ],
   "source": [
    "print(\"-----------------------------------------------------\")\n",
    "print(\"Circuito que computa transformada quântica de Fourier Inversa\")\n",
    "n = 4\n",
    "qc = QuantumCircuit(n)\n",
    "for i in range(n-1,-1,-1):\n",
    "    qc.h(i)\n",
    "    for j in range(i-1, -1, -1):\n",
    "        qc.cp(np.pi/(2**(i - j)), i,j)\n",
    "    qc.barrier()\n",
    "    \n",
    "qc = qc.inverse()\n",
    "qc.draw('mpl', scale = 0.9)"
   ]
  },
  {
   "cell_type": "markdown",
   "id": "31079220",
   "metadata": {},
   "source": [
    "### $QFT$ and $QFT^{-1}$ functions"
   ]
  },
  {
   "cell_type": "code",
   "execution_count": 97,
   "id": "afa20e68",
   "metadata": {},
   "outputs": [],
   "source": [
    "def qft(n):\n",
    "    qc = QuantumCircuit(n)\n",
    "    for i in range(n-1,-1,-1):\n",
    "        qc.h(i)\n",
    "        for j in range(i-1, -1, -1):\n",
    "            qc.cp(np.pi/(2**(i - j)), i,j)\n",
    "    gate = qc.to_gate(label = ' QFT')\n",
    "    return gate\n",
    "\n",
    "def iqft(n):\n",
    "    qc = QuantumCircuit(n)\n",
    "    qc.append(qft(n), range(n))\n",
    "    qc = qc.inverse()\n",
    "    gate = qc.to_gate(label = ' $IQFT$')\n",
    "    return gate\n",
    "def phase(n):\n",
    "    qc = QuantumCircuit(n)\n",
    "    for j in range(len(qa)):\n",
    "        for i in range(j,len(qb)):\n",
    "            qc.cp(2*np.pi/2**(i + 1 - j), qa[j], qb[i])\n",
    "        qc.barrier()"
   ]
  },
  {
   "cell_type": "code",
   "execution_count": 101,
   "id": "2031e975",
   "metadata": {},
   "outputs": [
    {
     "data": {
      "image/png": "[encoded data removed]",
      "text/plain": [
       "<Figure size 240.478x184.212 with 1 Axes>"
      ]
     },
     "execution_count": 101,
     "metadata": {},
     "output_type": "execute_result"
    }
   ],
   "source": [
    "n = 3\n",
    "qc = QuantumCircuit(n)\n",
    "qc.append(qft(n), range(n))\n",
    "qc.append(iqft(n), range(n))\n",
    "\n",
    "qc.draw('mpl', style='iqx', scale = .9)"
   ]
  },
  {
   "cell_type": "markdown",
   "id": "22956259",
   "metadata": {},
   "source": [
    "### Criando o Adder "
   ]
  },
  {
   "cell_type": "code",
   "execution_count": 142,
   "id": "034c7c73",
   "metadata": {},
   "outputs": [
    {
     "name": "stdout",
     "output_type": "stream",
     "text": [
      "110 100\n"
     ]
    },
    {
     "data": {
      "image/png": "[encoded data removed]",
      "text/plain": [
       "<Figure size 870.568x311.836 with 1 Axes>"
      ]
     },
     "execution_count": 142,
     "metadata": {},
     "output_type": "execute_result"
    }
   ],
   "source": [
    "a = 3\n",
    "b = 1\n",
    "max_ab = max(a,b)\n",
    "n = len(format(a+b, '0b'))\n",
    "qa = QuantumRegister(n,name='qa')\n",
    "qb = QuantumRegister(n,name='qb')\n",
    "cr = ClassicalRegister(n,'c')\n",
    "qc = QuantumCircuit(qa,qb,cr,name='qc') #-----------------------------------\n",
    "\n",
    "a_bit = format(a, '0'+str(n)+'b')[::-1]\n",
    "b_bit = format(b, '0'+str(n)+'b')[::-1]\n",
    "print(a_bit, b_bit)\n",
    "for i,j in enumerate(a_bit):\n",
    "    if j == '1':\n",
    "        qc.x( qa[i] )\n",
    "for i,j in enumerate(b_bit):\n",
    "    if j == '1':\n",
    "        qc.x( qb[i] )\n",
    "# qc.x( qb[1] )\n",
    "# display(qc.draw())\n",
    "#------------------------------ phase contributions from |b> qc.cu1( m.pi/2, qb[0], qa[0] )\n",
    "qc.append(qft(len(qb)),qb)\n",
    "\n",
    "for j in range(len(qa)):\n",
    "    for i in range(j,len(qb)):\n",
    "        qc.cp(2*np.pi/2**(i + 1 - j), qa[j], qb[i])\n",
    "    qc.barrier()\n",
    "\n",
    "qc.append(iqft(len(qb)), qb)\n",
    "qc.measure(qb,range(n))\n",
    "\n",
    "qc.draw('mpl', scale=.7)"
   ]
  },
  {
   "cell_type": "code",
   "execution_count": 121,
   "id": "5018e087",
   "metadata": {},
   "outputs": [
    {
     "name": "stdout",
     "output_type": "stream",
     "text": [
      "------------------------------------------------------------------------------\n",
      "\n",
      "\n",
      "\n",
      "A soma dos números [3, 3] é igual a 6 e em binário 110\n",
      "\n",
      "\n",
      "\n",
      "------------------------------------------------------------------------------\n"
     ]
    },
    {
     "data": {
      "image/png": "[encoded data removed]",
      "text/plain": [
       "<Figure size 1309.97x549.024 with 1 Axes>"
      ]
     },
     "execution_count": 121,
     "metadata": {},
     "output_type": "execute_result"
    }
   ],
   "source": [
    "ints = [3,3]\n",
    "print('------------------------------------------------------------------------------')\n",
    "print('\\n\\n')\n",
    "print(f'A soma dos números {ints} é igual a {sum(ints)} e em binário {format(sum(ints),\"0b\")}')\n",
    "print('\\n\\n')\n",
    "print('------------------------------------------------------------------------------')\n",
    "\n",
    "\n",
    "\n",
    "qubits_qft = len(format(sum(ints), '0b'))\n",
    "qubits_x = len(format(max(ints), '0b'))\n",
    "data_qubits = qubits_qft + qubits_x\n",
    "\n",
    "qr_data_int = QuantumRegister(qubits_x, \"data_x\")\n",
    "qr_data_qft = QuantumRegister(qubits_qft, \"qft\")\n",
    "cr1 = ClassicalRegister(data_qubits, 'c_qft')\n",
    "\n",
    "qc = QuantumCircuit(qr_data_int, qr_data_qft)\n",
    "qc.append(qft(qubits_qft), qr_data_qft)\n",
    "\n",
    "\n",
    "for x in ints:\n",
    "    k = format(x, '0b')[::-1]\n",
    "    for i,j in enumerate(k):\n",
    "        if j == '1':\n",
    "            qc.x(qr_data_int[i])\n",
    "\n",
    "#     qc.append(qft(qubits_qft), qr_data_qft)\n",
    "    for j in range(len(qr_data_int)):\n",
    "        for i in range(j,len(qr_data_qft)):\n",
    "            qc.cp(2*np.pi/2**(i + 1 - j), qr_data_int[j], qr_data_qft[i])\n",
    "        qc.barrier()\n",
    "\n",
    "\n",
    "#     qc.append(subroutine_add_const(data_qubits,x), qr_data_int[:] + qr_data_qft[:])\n",
    "#     qc.append(iqft(qubits_qft),qr_data_qft)\n",
    "    for i,j in enumerate(k):\n",
    "        if j == '1':\n",
    "            qc.x(qr_data_int[i])\n",
    "    qc.barrier()\n",
    "qc.append(iqft(qubits_qft),qr_data_qft)\n",
    "\n",
    "qc.draw('mpl', scale = .8)"
   ]
  },
  {
   "cell_type": "code",
   "execution_count": 143,
   "id": "a7ab9f69",
   "metadata": {},
   "outputs": [
    {
     "data": {
      "image/png": "[encoded data removed]",
      "text/plain": [
       "<Figure size 720x216 with 1 Axes>"
      ]
     },
     "execution_count": 143,
     "metadata": {},
     "output_type": "execute_result"
    }
   ],
   "source": [
    "from qiskit import execute\n",
    "from qiskit.visualization import *\n",
    "backend = Aer.get_backend('statevector_simulator')\n",
    "result = execute(qc, backend, shots = 10000).result().get_counts()\n",
    "\n",
    "plot_histogram(result, figsize=(10,3))"
   ]
  },
  {
   "cell_type": "code",
   "execution_count": null,
   "id": "4a827bc1",
   "metadata": {},
   "outputs": [],
   "source": []
  }
 ],
 "metadata": {
  "kernelspec": {
   "display_name": "Python 3 (ipykernel)",
   "language": "python",
   "name": "python3"
  },
  "language_info": {
   "codemirror_mode": {
    "name": "ipython",
    "version": 3
   },
   "file_extension": ".py",
   "mimetype": "text/x-python",
   "name": "python",
   "nbconvert_exporter": "python",
   "pygments_lexer": "ipython3",
   "version": "3.7.11"
  },
  "widgets": {
   "application/vnd.jupyter.widget-state+json": {
    "state": {},
    "version_major": 2,
    "version_minor": 0
   }
  }
 },
 "nbformat": 4,
 "nbformat_minor": 5
}

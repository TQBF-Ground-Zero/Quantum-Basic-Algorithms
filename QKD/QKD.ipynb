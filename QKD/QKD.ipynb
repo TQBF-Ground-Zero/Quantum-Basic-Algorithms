{
 "cells": [
  {
   "cell_type": "markdown",
   "metadata": {},
   "source": [
    "<div style=\"text-align: center; margin: 50px\">\n",
    "\n",
    "<h1 style=\"color: white; background-color: grey; text-align: center;\">Qubit by Qubit - Semester 2</h1>\n",
    "<h3>Week 19 lab: Quantum Key Distribution</h3>\n",
    "\n",
    "</div>"
   ]
  },
  {
   "cell_type": "markdown",
   "metadata": {},
   "source": [
    "# Overview\n",
    "\n",
    "1. [Introdução](#intro) <br>\n",
    "    1.1 [Quantum Key Distribuit](#layout) <br>\n",
    "    1.2 [Experimento](#specs) <br>\n",
    "2. [Steps in the QKD protocol](#protocol) <br>\n",
    "    2.1 [Step 1: Encode Basis (Alice)](#step1) <br>\n",
    "    2.2 [Step 2: Measurement Basis (Bob)](#step2) <br>\n",
    "    2.3 [Step 3: Encode (Alice prepara estado)](#step3)  <br>\n",
    "    2.4 [Step 4: Send (Alice envia estado)](#step4)  <br>\n",
    "3. [Resumo](#takeaways)  <br>\n",
    "4. [Leituras Adicionais](#frr)  <br>\n",
    "5. [Optional content](#optional) <br>\n",
    "    5.1 [Step 5: Measure (Bob Mede estado que Alice enviou)](#step5) <br>\n",
    "    5.2 [Step 6: Alice e Bob anunciam a Base que escolheram previamente](#step6) <br>\n",
    "    5.3 [Step 7: Find symmetric key](#step7) <br>\n",
    "6. [Exta content - full QKD protocol implementation](#extra) <br>\n",
    "    6.1 [Challenge problem: Implementing a function for Eve](#challenge) <br>"
   ]
  },
  {
   "cell_type": "markdown",
   "metadata": {},
   "source": [
    "<a id=\"intro\"></a>\n",
    "# 1. Introdução\n",
    "\n",
    "**O que é distribuição de chaves?** A comunicação segura consiste na habilidade de encriptar a mensagem que se deseja enviar de uma maneira que o receptor possa decriptar, mas que seja impossível para algum espião descobrir a mensagem.\n",
    "\n",
    "Em nosso problema:\n",
    "\n",
    "- **Alice** envia a mensagem. (transmissor)\n",
    "- **Bob** recebe a mensagem. (receptor)\n",
    "\n",
    "A segurança é geralmente é feita com o uso de uma **chave**, a qual é conhecida somente pelo transmissor e receptor da mensagem.\n",
    "\n",
    "Se a chave pode **ser distribuída com segurança** entre o trasmissor e o receptor, a mensagem criptografada pode ser enviada com segurança por meio de um canal público de comunicação. Sem a chave,  a probabilidade de descriptografar com êxito a mensagem é praticamente zero.\n",
    "\n",
    "\n",
    "Em geral, **a chave é somente um bitstring** - uma sequência de 0s e 1s, e só somente é conhecida por Alice e Bob, as duas partes que estao se comunicando.\n",
    "\n",
    "Portanto, o problema da comunicação segura consiste em para garantir a distribuição chave, de maneira segura. Quantum Key Distribution é única porque a segurança contra espiões é garantida pelas próprias leis da mecânica quântica. A garantia de segunraça nos protocolos atuais, consistes na complexidade computacional de certas funções, as quais são utilizadas nas distribuicóes de chaves clássicas.\n",
    "\n",
    "Vamos implementar um QKD usando qiskit, baseado no protocolo BB84.\n"
   ]
  },
  {
   "cell_type": "markdown",
   "metadata": {},
   "source": [
    "<a id=\"layout\"></a>\n",
    "## 1.1 Quantum Key Distribution\n",
    "\n",
    "O protocolo BB84 consiste em:\n",
    "\n",
    "1. `Selecionar Base de Alice (ENCODE BASIS)`: Alice aleatoriamente seleciona a base ( × or + ) para codificar o qubit.\n",
    "2. `Selecione a Base de Bob (DECODE BASIS`: Bob aleatoriamente seleciona uma base ( × or + ) para medir cada qubit.\n",
    "3. `ENCODE`: Alice cria um estado quantico, encripta na base selecionada.\n",
    "4. `SEND`: Alice envia a Bob o estado codificado via um canal quantico de comunicação. \n",
    "5. `MEASURE`: Bob mede todos os estados quânticos em sua base de medida pré-selecionada.\n",
    "6. `ANNOUNCE BASIS`: Alice anuncia, via um canal clássico de comunicação, quais bases ela usou para codificar cada qubit.\n",
    "7. `FIND SYMMETRIC KEY`: Alice e Bob descartam bits em sua chave em que eles usaram diferentes bases de encoding e docoding. \n",
    "\n",
    "Estes 7 passos permitem uma chave ser distribuída entre Alice e Bob de maneira completamente segura. Estando garantido que Alice e Bob podem se comunicar por meio de um canal seguro.\n"
   ]
  },
  {
   "cell_type": "code",
   "execution_count": 47,
   "metadata": {},
   "outputs": [],
   "source": [
    "from random import getrandbits\n",
    "from qiskit import *"
   ]
  },
  {
   "cell_type": "markdown",
   "metadata": {},
   "source": [
    "<a id=\"specs\"></a>\n",
    "## 1.2 Experimento\n",
    "\n",
    "Tamanho da chave (número de bits) 500\n",
    "\n",
    "Em uma implementação real disso, os fótons físicos serão enviado via fibra óptica para Bob (step 4). Infelizmente, não conseguimos fazer isso no laboratório, então, ao invés disso, podemos representar os fótons sendo transportados colocando-os em um `QUANTUM_CHANNEL` - isso é: uma lista do python.\n",
    "\n",
    "Similarmente, precisaremos representar o canal clássico de comunicação, o que na vida real poderia ser cabos enviando sinais elétricos, por meio dos quais, Alice irá anunciar sua base (step 6). Podemos representar isso, novamente, usando uma lista em python.\n",
    "\n",
    "Podemos supor que `CLASSICAL_CHANNEL` é inseguro, e contudo,  está sujeito a ataques de hackers."
   ]
  },
  {
   "cell_type": "code",
   "execution_count": 48,
   "metadata": {},
   "outputs": [],
   "source": [
    "KEY_LENGTH = 500\n",
    "QUANTUM_CHANNEL = []\n",
    "CLASSICAL_CHANNEL = []"
   ]
  },
  {
   "cell_type": "markdown",
   "metadata": {},
   "source": [
    "<a id=\"protocol\"></a>\n",
    "# 2. Steps in the QKD protocol\n",
    "\n",
    "Implementando QKD Step by Step"
   ]
  },
  {
   "cell_type": "markdown",
   "metadata": {},
   "source": [
    "<a id=\"step1\"></a>\n",
    "## 2.1. Step 1: Encode Basis (Alice)\n",
    "\n",
    "Alice necessita selecionar aleatoriamente um bit para chave e um bit para base. O bit da base será utilizado para codificar o bit da chave.\n"
   ]
  },
  {
   "cell_type": "code",
   "execution_count": 49,
   "metadata": {},
   "outputs": [
    {
     "data": {
      "text/plain": [
       "0"
      ]
     },
     "execution_count": 49,
     "metadata": {},
     "output_type": "execute_result"
    }
   ],
   "source": [
    "getrandbits(1)"
   ]
  },
  {
   "cell_type": "code",
   "execution_count": 50,
   "metadata": {},
   "outputs": [],
   "source": [
    "def Alice_encode(length):\n",
    "    \n",
    "    #Armazena o estado que a Alice irá codificar\n",
    "    alice_bitstring = \"\"\n",
    "    #Armazena as bases que Alice usará para codificar o estado\n",
    "    alice_bases = \"\"\n",
    "    \n",
    "    for i in range(length):\n",
    "        \n",
    "        # A função getrandbits é utilizada para obter 0 ou 1 aleatoriamente, o argumento 1 na funçao\n",
    "        # está associado ao limite superior dos número produzido aleatoriamente\n",
    "        alice_bitstring += (str(getrandbits(1)))\n",
    "        \n",
    "        # o resultado 0 significa codificar a chave na base (0,1) e 1 significa codifica na base (+,-)\n",
    "        alice_bases += (str(getrandbits(1))) #gera 0 ou 1 aleatoriamente\n",
    "    \n",
    "    # return the string of bits and the list of bases they should be encoded in\n",
    "    return alice_bitstring, alice_bases"
   ]
  },
  {
   "cell_type": "markdown",
   "metadata": {},
   "source": [
    "#### Criar a key da Alice e bitstring da Base da Alice\n",
    "\n",
    "Vamos criar `alice_key` and `alice_basis`"
   ]
  },
  {
   "cell_type": "code",
   "execution_count": 51,
   "metadata": {
    "scrolled": true
   },
   "outputs": [
    {
     "name": "stdout",
     "output_type": "stream",
     "text": [
      "alice_key:  1000010101110101101111000110111011101110001110001000111011000111111110111011000101110100011111100110\n",
      "alice_bases:  1111001011001010010000101110000100111111111010101011110001000111100000000111111111010001110000010011\n"
     ]
    }
   ],
   "source": [
    "alice_bitstring, alice_basis = Alice_encode(KEY_LENGTH)\n",
    "\n",
    "# Preview the first 10 elements of each:\n",
    "print(\"alice_key: \", alice_bitstring[:100])\n",
    "print(\"alice_bases: \", alice_basis[:100])"
   ]
  },
  {
   "cell_type": "markdown",
   "metadata": {},
   "source": [
    "<a id=\"step2\"></a>\n",
    "## 2.2. Step 2: Measurement Basis (Bob)\n",
    "\n",
    "Bob necessita selecionar aleatoriamente a base a qual irá medir cada qubit.\n"
   ]
  },
  {
   "cell_type": "code",
   "execution_count": 52,
   "metadata": {},
   "outputs": [],
   "source": [
    "def Bob_meas(length):\n",
    "    bob_basis = \"\"\n",
    "    \n",
    "    for i in range(length):\n",
    "        bob_basis += (str(getrandbits(1)))\n",
    "        \n",
    "    return bob_basis"
   ]
  },
  {
   "cell_type": "markdown",
   "metadata": {},
   "source": [
    "#### Criar  Measurement Basis selecionado por Bob\n",
    "\n",
    "Vamos criar `bob_basis` list\n"
   ]
  },
  {
   "cell_type": "code",
   "execution_count": 53,
   "metadata": {},
   "outputs": [
    {
     "name": "stdout",
     "output_type": "stream",
     "text": [
      "selected_measurements:  1011101111100011010100100100010001110001110110011110100001011110100100000100101110010011010110100111\n"
     ]
    }
   ],
   "source": [
    "bob_basis = Bob_meas(KEY_LENGTH)\n",
    "\n",
    "# Preview the first 10 elements of each:\n",
    "print(\"selected_measurements: \", bob_basis[:100])"
   ]
  },
  {
   "cell_type": "markdown",
   "metadata": {},
   "source": [
    "<a id=\"step3\"></a>\n",
    "## 2.3. Step 3: Encode (Alice prepara estado) \n",
    "\n",
    "Alice agora usa sua lista de random bits para gerar um monte de estados quânticos:\n",
    "\n",
    "Cada bit key e bit basis será utilizado para criar um `QuantumCircuit` específico.\n",
    "\n",
    "A tabela abaixo sumariza o estado do qubit que a Alice envia, baseado na base correspendente. Podemos pensar que Alice tem em posse dela dois qubits de informação, o primeiro qubit decide o estado a ser enviado, e o segundo qubit, decido a base em que ela vai medir o estado. $\\vert 00\\rangle$, $\\vert 01\\rangle$, $\\vert 10\\rangle$, $\\vert 11 \\rangle$.\n",
    "\n",
    "| Bit in Alice's `alice_key` | Corresponding bit in `alice_basis` | Encoding basis | Qubit state sent |\n",
    "|:----------------:|:--------------------------:|:--------------------------:|:---------------:|\n",
    "| 0 | 0 | $$|0\\rangle,|1\\rangle$$ |$$|0\\rangle$$ |\n",
    "| 0 | 1 | $$|+\\rangle,|-\\rangle$$ |$$|+\\rangle$$ |\n",
    "| 1 | 0 | $$|0\\rangle,|1\\rangle$$ |$$|1\\rangle$$ |\n",
    "| 1 | 1 | $$|+\\rangle,|-\\rangle$$ |$$|-\\rangle$$ |"
   ]
  },
  {
   "cell_type": "code",
   "execution_count": 54,
   "metadata": {},
   "outputs": [
    {
     "name": "stdout",
     "output_type": "stream",
     "text": [
      "1, 1\n"
     ]
    },
    {
     "data": {
      "text/plain": [
       "[<qiskit.circuit.quantumcircuit.QuantumCircuit at 0x7faab91409d0>,\n",
       " <qiskit.circuit.quantumcircuit.QuantumCircuit at 0x7faab99b9f70>,\n",
       " <qiskit.circuit.quantumcircuit.QuantumCircuit at 0x7faab9a147c0>,\n",
       " <qiskit.circuit.quantumcircuit.QuantumCircuit at 0x7faab9a14670>]"
      ]
     },
     "execution_count": 54,
     "metadata": {},
     "output_type": "execute_result"
    }
   ],
   "source": [
    "def encode(alice_bitstring, alice_basis):\n",
    "    encoded_qubits = []\n",
    "    \n",
    "    for i in range(len(alice_bitstring)):\n",
    "        #Criando Circuito Quântico\n",
    "        qc = QuantumCircuit(1,1)\n",
    "\n",
    "        if alice_basis[i] == \"0\":\n",
    "            # Se 0 a base escolhida é |0>, |1> (z basis)\n",
    "            if alice_bitstring[i] == \"0\":\n",
    "                # Se 0, o estado enviado será |0>\n",
    "                # Como o circuito quântico, por default é inicialiado em|0> não precisamos fazer nada\n",
    "                pass\n",
    "                \n",
    "            elif alice_bitstring[i] == \"1\":\n",
    "                # Se 1, precisamos gerar o estado |1>\n",
    "                # Para isso aplicamos x no qubit |1>\n",
    "                qc.x(0)\n",
    "\n",
    "        elif alice_basis[i] == \"1\":\n",
    "            # 1 Means we are encoding in the x basis\n",
    "            if alice_bitstring[i] == \"0\":\n",
    "                # We apply an H gate to generate |+>\n",
    "                qc.h(0)\n",
    "            elif alice_bitstring[i] == \"1\":\n",
    "                # We apply an X and an H gate to generate |->\n",
    "                qc.x(0)\n",
    "                qc.h(0)\n",
    "\n",
    "        # add this quantum circuit to the list of encoded_qubits\n",
    "        encoded_qubits.append(qc)\n",
    "    return encoded_qubits\n",
    "\n",
    "print(f'{alice_bitstring[0]}, {alice_basis[0]}')\n",
    "len(encode(alice_bitstring, alice_basis))\n",
    "encode(alice_bitstring, alice_basis)[:4]"
   ]
  },
  {
   "cell_type": "markdown",
   "metadata": {},
   "source": [
    "### Create Alice's encoded_qubits"
   ]
  },
  {
   "cell_type": "code",
   "execution_count": 55,
   "metadata": {
    "scrolled": true
   },
   "outputs": [
    {
     "data": {
      "image/png": "[encoded data removed]",
      "text/plain": [
       "<Figure size 193.726x144.48 with 1 Axes>"
      ]
     },
     "metadata": {},
     "output_type": "display_data"
    },
    {
     "data": {
      "image/png": "[encoded data removed]",
      "text/plain": [
       "<Figure size 133.526x144.48 with 1 Axes>"
      ]
     },
     "metadata": {},
     "output_type": "display_data"
    },
    {
     "data": {
      "image/png": "[encoded data removed]",
      "text/plain": [
       "<Figure size 133.526x144.48 with 1 Axes>"
      ]
     },
     "metadata": {},
     "output_type": "display_data"
    },
    {
     "data": {
      "image/png": "[encoded data removed]",
      "text/plain": [
       "<Figure size 133.526x144.48 with 1 Axes>"
      ]
     },
     "metadata": {},
     "output_type": "display_data"
    },
    {
     "data": {
      "image/png": "[encoded data removed]",
      "text/plain": [
       "<Figure size 103.426x144.48 with 1 Axes>"
      ]
     },
     "metadata": {},
     "output_type": "display_data"
    },
    {
     "data": {
      "image/png": "[encoded data removed]",
      "text/plain": [
       "<Figure size 133.526x144.48 with 1 Axes>"
      ]
     },
     "metadata": {},
     "output_type": "display_data"
    },
    {
     "data": {
      "image/png": "[encoded data removed]",
      "text/plain": [
       "<Figure size 133.526x144.48 with 1 Axes>"
      ]
     },
     "metadata": {},
     "output_type": "display_data"
    },
    {
     "data": {
      "image/png": "[encoded data removed]",
      "text/plain": [
       "<Figure size 133.526x144.48 with 1 Axes>"
      ]
     },
     "metadata": {},
     "output_type": "display_data"
    },
    {
     "data": {
      "image/png": "[encoded data removed]",
      "text/plain": [
       "<Figure size 133.526x144.48 with 1 Axes>"
      ]
     },
     "metadata": {},
     "output_type": "display_data"
    },
    {
     "data": {
      "image/png": "[encoded data removed]",
      "text/plain": [
       "<Figure size 193.726x144.48 with 1 Axes>"
      ]
     },
     "metadata": {},
     "output_type": "display_data"
    }
   ],
   "source": [
    "#Criando um circuito para cada par alice_key, alice_basis\n",
    "encoded_qubits = encode(alice_bitstring, alice_basis)\n",
    "for qc in encoded_qubits[:10]:\n",
    "    display(qc.draw('mpl'))"
   ]
  },
  {
   "cell_type": "markdown",
   "metadata": {},
   "source": [
    "<a id=\"step4\"></a>\n",
    "## 2.4. Step 4: Send (Alice Envia)\n",
    "\n",
    "Alice envia os qubits codificados a Bob utilizando um `QUANTUM_CHANNEL`. \n",
    "\n",
    "No problema real, Alice envia seus qubits via fibra óptica (por exemplo), que poderia ser o canal quântico.\n",
    "Aqui, nós somente copiamos o qubit codificado na variável `QUANTUM_CHANNEL`."
   ]
  },
  {
   "cell_type": "code",
   "execution_count": 56,
   "metadata": {},
   "outputs": [],
   "source": [
    "# Alice Sends Bob her encoded qubits over the quantum_channel\n",
    "QUANTUM_CHANNEL = encoded_qubits"
   ]
  },
  {
   "cell_type": "markdown",
   "metadata": {},
   "source": [
    "<a id=\"takeaways\"></a>\n",
    "# 3. Resumo\n",
    "\n",
    "1. Distribuição de Chaves é um passo essencial na segurança da comunicação - isso assegura que Alice e Bobo podem codificar e decodificar a mensagem, mas um hacker não pode.\n",
    "\n",
    "2. Quantum Key Distribution funciona basicamente com três passos:\n",
    "    * Alice gera uma sequência de qubits e envia para Bob.\n",
    "    * Bob mede os qubits recebidos. \n",
    "    * Alice and Bob comparam as bases escolhidas e ficam com bits cuja a escolha das bases coicidem.\n"
   ]
  },
  {
   "cell_type": "markdown",
   "metadata": {},
   "source": [
    "<a id=\"frr\"></a>\n",
    "# 4. Leituras Adicionais\n",
    "\n",
    "1. [Qiskit textbook page on QKD, including QKD with eavesdropping](https://qiskit.org/textbook/ch-algorithms/quantum-key-distribution.html)\n",
    "2. [Prospects for large scale QKD](https://arxiv.org/ftp/arxiv/papers/1809/1809.02291.pdf)\n",
    "3. [Free online quantum learning opportunities](https://quantumapalooza.com/)\n",
    "4. [Videos on basic QIS concepts](https://www.quantumworlddetangled.com/)\n",
    "5. [Statistics on QIS technology](https://qisdata.com/)"
   ]
  },
  {
   "cell_type": "markdown",
   "metadata": {},
   "source": [
    "<a id=\"optional\"></a>\n",
    "# 5. QKD Avançado - usando qiskit"
   ]
  },
  {
   "cell_type": "markdown",
   "metadata": {},
   "source": [
    "<a id=\"step5\"></a>\n",
    "## 5.1. Step 5: Measure (Bob)\n",
    "\n",
    "Bob mede os qubits em uma base aleatória, escolhida na parte 2."
   ]
  },
  {
   "cell_type": "code",
   "execution_count": 57,
   "metadata": {},
   "outputs": [],
   "source": [
    "def measure(bob_bases, encoded_qubits, backend):\n",
    "    # Realiza a medida o estado que Alice Enviou\n",
    "    # Seleciona a base de medida (aleatoriamente): \n",
    "    # encoded_qubits: lista de circuitos que Alice enviou\n",
    "    # backend: IBMQ backend, either simulation or hardware\n",
    "    \n",
    "    bob_bitstring = ''\n",
    "    \n",
    "    for i in range(len(encoded_qubits)):\n",
    "        qc = encoded_qubits[i]\n",
    "        \n",
    "        if bob_bases[i] == \"0\":\n",
    "            # 0 means we want to measure in Z basis\n",
    "            qc.measure(0,0)\n",
    "\n",
    "        elif bob_bases[i] == \"1\":\n",
    "            # 1 means we want to measure in X basis\n",
    "            qc.h(0)\n",
    "            qc.measure(0,0)\n",
    "        \n",
    "        # Now that the measurements have been added to the circuit, let's run them.\n",
    "        job = execute(qc, backend=backend, shots = 1) # increase shots if running on hardware\n",
    "        results = job.result()\n",
    "        counts = results.get_counts()\n",
    "        measured_bit = max(counts, key=counts.get)\n",
    "\n",
    "        # Append measured bit to Bob's measured bitstring\n",
    "        bob_bitstring += measured_bit \n",
    "        \n",
    "    return bob_bitstring"
   ]
  },
  {
   "cell_type": "markdown",
   "metadata": {},
   "source": [
    "### Para medir os qubits que Bob recebeu de Alice, usamos `qasm_simulator`\n",
    "\n",
    "We will use a simulated backend here but feel free to swap this out later in the extra material"
   ]
  },
  {
   "cell_type": "code",
   "execution_count": 58,
   "metadata": {},
   "outputs": [
    {
     "data": {
      "text/plain": [
       "'10001101010101011010110011101011111001000001101110011110110101111110101110010001011101101111010100100000011001100011100001110100100011011101001101100001001000110011111111011001111001000011101100100100100001000010000110110100010100110011111100011100010000111000101111100101000000011100011110111110011000101111000101101011110010110011111001000011101110011011100010101101110000010000101000110101000000110111001101000100011111001000011100001001011011010011000101111010101011101000011011110010101100011101'"
      ]
     },
     "execution_count": 58,
     "metadata": {},
     "output_type": "execute_result"
    }
   ],
   "source": [
    "sim_backend = Aer.get_backend('qasm_simulator')\n",
    "\n",
    "bob_bitstring = measure(bob_basis, QUANTUM_CHANNEL, sim_backend)\n",
    "\n",
    "bob_bitstring"
   ]
  },
  {
   "cell_type": "markdown",
   "metadata": {},
   "source": [
    "<a id=\"step6\"></a>\n",
    "## 5.2. Step 6: Announce Basis\n",
    "\n",
    "Alice announces which basis she used to encode each qubit via the `CLASSICAL_CHANNEL`"
   ]
  },
  {
   "cell_type": "code",
   "execution_count": 59,
   "metadata": {},
   "outputs": [
    {
     "data": {
      "text/plain": [
       "'11110010110010100100001011100001001111111110101010111100010001111000000001111111110100011100000100111100011011011111111010101001100001010000010000110010100111100010011110000111111111000011011000011010100001101001110110101101110011001001100100011101110100010011010010011111110111101110100110110001100000110001100010111111101010100100001101000010011110101001100110101111100100110111001100100101011110100110111111110011101110000010011001100110110101010101111011001001101101011010001100011000001111000100'"
      ]
     },
     "execution_count": 59,
     "metadata": {},
     "output_type": "execute_result"
    }
   ],
   "source": [
    "# Alice sends the list of bases used to create her encoded qubits to bob over the classical channel\n",
    "CLASSICAL_CHANNEL = alice_basis\n",
    "alice_basis"
   ]
  },
  {
   "cell_type": "markdown",
   "metadata": {},
   "source": [
    "<a id=\"step7\"></a>\n",
    "## 5.3. Step 7: Achar Chave Simétrica\n",
    "\n",
    "Agora que Alice anunciou qual base ela usou para encriptar sua chave, Bob pode verificar na sua lista de escolhas quantas vezes eles escolheram a base igual. \n",
    "\n",
    "`As posições onde eles usaram a mesma base são mantidas, e aquelas que as bases foram diferentes, deverão ser descartadas`\n"
   ]
  },
  {
   "cell_type": "code",
   "execution_count": 60,
   "metadata": {},
   "outputs": [],
   "source": [
    "def bob_compare_bases(alices_basis, bobs_basis):\n",
    "    indices = []\n",
    "    \n",
    "    for i in range(len(alices_basis)):\n",
    "        if alices_basis[i] == bobs_basis[i]:\n",
    "            indices.append(i)\n",
    "    return indices"
   ]
  },
  {
   "cell_type": "markdown",
   "metadata": {},
   "source": [
    "#### Agora que Bob conhece as bases escolhidas por Alice para codificar os qubits, ele pode comparar quais bases ele acertou e enviar para Alice as `posições` que ele acertou (na ordem de envio dos qubits)."
   ]
  },
  {
   "cell_type": "code",
   "execution_count": 61,
   "metadata": {},
   "outputs": [
    {
     "data": {
      "text/plain": [
       "[0,\n",
       " 2,\n",
       " 3,\n",
       " 5,\n",
       " 6,\n",
       " 8,\n",
       " 9,\n",
       " 11,\n",
       " 13,\n",
       " 14,\n",
       " 16,\n",
       " 17,\n",
       " 18,\n",
       " 20,\n",
       " 21,\n",
       " 22,\n",
       " 23,\n",
       " 25,\n",
       " 27,\n",
       " 28,\n",
       " 30,\n",
       " 32,\n",
       " 34,\n",
       " 35,\n",
       " 39,\n",
       " 40,\n",
       " 41,\n",
       " 44,\n",
       " 45,\n",
       " 48,\n",
       " 50,\n",
       " 52,\n",
       " 54,\n",
       " 55,\n",
       " 56,\n",
       " 57,\n",
       " 58,\n",
       " 61,\n",
       " 62,\n",
       " 64,\n",
       " 65,\n",
       " 66,\n",
       " 68,\n",
       " 69,\n",
       " 70,\n",
       " 71,\n",
       " 72,\n",
       " 73,\n",
       " 76,\n",
       " 78,\n",
       " 79,\n",
       " 80,\n",
       " 82,\n",
       " 83,\n",
       " 84,\n",
       " 85,\n",
       " 87,\n",
       " 89,\n",
       " 90,\n",
       " 93,\n",
       " 96,\n",
       " 98,\n",
       " 99,\n",
       " 100,\n",
       " 101,\n",
       " 104,\n",
       " 105,\n",
       " 108,\n",
       " 110,\n",
       " 116,\n",
       " 117,\n",
       " 118,\n",
       " 121,\n",
       " 122,\n",
       " 124,\n",
       " 127,\n",
       " 128,\n",
       " 130,\n",
       " 132,\n",
       " 134,\n",
       " 135,\n",
       " 137,\n",
       " 138,\n",
       " 139,\n",
       " 140,\n",
       " 142,\n",
       " 144,\n",
       " 145,\n",
       " 146,\n",
       " 149,\n",
       " 150,\n",
       " 154,\n",
       " 156,\n",
       " 157,\n",
       " 163,\n",
       " 164,\n",
       " 168,\n",
       " 169,\n",
       " 170,\n",
       " 172,\n",
       " 173,\n",
       " 177,\n",
       " 178,\n",
       " 179,\n",
       " 181,\n",
       " 187,\n",
       " 188,\n",
       " 189,\n",
       " 191,\n",
       " 192,\n",
       " 198,\n",
       " 201,\n",
       " 202,\n",
       " 205,\n",
       " 207,\n",
       " 208,\n",
       " 209,\n",
       " 212,\n",
       " 213,\n",
       " 216,\n",
       " 219,\n",
       " 220,\n",
       " 224,\n",
       " 226,\n",
       " 227,\n",
       " 229,\n",
       " 230,\n",
       " 231,\n",
       " 232,\n",
       " 233,\n",
       " 238,\n",
       " 239,\n",
       " 241,\n",
       " 245,\n",
       " 246,\n",
       " 248,\n",
       " 251,\n",
       " 252,\n",
       " 253,\n",
       " 257,\n",
       " 258,\n",
       " 260,\n",
       " 261,\n",
       " 262,\n",
       " 266,\n",
       " 270,\n",
       " 271,\n",
       " 272,\n",
       " 279,\n",
       " 283,\n",
       " 285,\n",
       " 286,\n",
       " 293,\n",
       " 294,\n",
       " 295,\n",
       " 296,\n",
       " 299,\n",
       " 303,\n",
       " 304,\n",
       " 307,\n",
       " 311,\n",
       " 317,\n",
       " 318,\n",
       " 319,\n",
       " 321,\n",
       " 322,\n",
       " 325,\n",
       " 326,\n",
       " 327,\n",
       " 328,\n",
       " 335,\n",
       " 340,\n",
       " 341,\n",
       " 344,\n",
       " 345,\n",
       " 346,\n",
       " 349,\n",
       " 350,\n",
       " 351,\n",
       " 354,\n",
       " 356,\n",
       " 358,\n",
       " 361,\n",
       " 363,\n",
       " 365,\n",
       " 366,\n",
       " 367,\n",
       " 369,\n",
       " 370,\n",
       " 371,\n",
       " 378,\n",
       " 380,\n",
       " 383,\n",
       " 385,\n",
       " 387,\n",
       " 390,\n",
       " 392,\n",
       " 395,\n",
       " 397,\n",
       " 399,\n",
       " 400,\n",
       " 405,\n",
       " 406,\n",
       " 409,\n",
       " 410,\n",
       " 412,\n",
       " 415,\n",
       " 416,\n",
       " 417,\n",
       " 421,\n",
       " 422,\n",
       " 423,\n",
       " 427,\n",
       " 428,\n",
       " 429,\n",
       " 430,\n",
       " 431,\n",
       " 434,\n",
       " 436,\n",
       " 444,\n",
       " 445,\n",
       " 447,\n",
       " 448,\n",
       " 449,\n",
       " 452,\n",
       " 455,\n",
       " 456,\n",
       " 457,\n",
       " 458,\n",
       " 459,\n",
       " 460,\n",
       " 461,\n",
       " 462,\n",
       " 464,\n",
       " 465,\n",
       " 466,\n",
       " 467,\n",
       " 469,\n",
       " 470,\n",
       " 472,\n",
       " 474,\n",
       " 477,\n",
       " 478,\n",
       " 480,\n",
       " 482,\n",
       " 483,\n",
       " 484,\n",
       " 485,\n",
       " 486,\n",
       " 487,\n",
       " 489,\n",
       " 491,\n",
       " 492,\n",
       " 498]"
      ]
     },
     "execution_count": 61,
     "metadata": {},
     "output_type": "execute_result"
    }
   ],
   "source": [
    "agreeing_basis = bob_compare_bases(CLASSICAL_CHANNEL, bob_basis)\n",
    "agreeing_basis"
   ]
  },
  {
   "cell_type": "code",
   "execution_count": 62,
   "metadata": {},
   "outputs": [],
   "source": [
    "# Bob envia a lista de posições que deram match, via um canal clássico\n",
    "CLASSICAL_CHANNEL = agreeing_basis"
   ]
  },
  {
   "cell_type": "markdown",
   "metadata": {},
   "source": [
    "#### Bob e Alice sabem todas as posições em que eles usaram a mesma base. Eles então `DESCARTAM` todo bit que em que eles usaram bases diferentes. Com isso eles terão uma chave compartilhada e poderão utilizar essa chave para se comunicarem de maneira segura."
   ]
  },
  {
   "cell_type": "code",
   "execution_count": 46,
   "metadata": {},
   "outputs": [],
   "source": [
    "def construct_key_from_indices(bitstring, indices):\n",
    "    key = ''\n",
    "    for idx in indices:\n",
    "        # For the indices where bases match, the bitstring bit is added to the key\n",
    "        key = key + bitstring[idx] \n",
    "    return key"
   ]
  },
  {
   "cell_type": "code",
   "execution_count": null,
   "metadata": {},
   "outputs": [],
   "source": []
  },
  {
   "cell_type": "code",
   "execution_count": null,
   "metadata": {},
   "outputs": [],
   "source": []
  },
  {
   "cell_type": "code",
   "execution_count": 63,
   "metadata": {
    "scrolled": true
   },
   "outputs": [
    {
     "name": "stdout",
     "output_type": "stream",
     "text": [
      "----------------------------------------------------------------------------------------------\n",
      "Dos 500 bits iniciais, apenas 254 foram aproveitados para a chave compartilhada.\n",
      "----------------------------------------------------------------------------------------------\n",
      "alice_key:  1001001110101110010111100001010110110111111011100010110101110100001011001100101011010101100100111101\n",
      "bob_key:  1001001110101110010111100001010110110111111011100010110101110100001011001100101011010101100100111101\n",
      "Alice's key is equal to Bob's key:  True\n"
     ]
    }
   ],
   "source": [
    "\n",
    "alice_key = construct_key_from_indices(alice_bitstring, CLASSICAL_CHANNEL)\n",
    "bob_key = construct_key_from_indices(bob_bitstring, agreeing_basis)\n",
    "\n",
    "# Preview the first 100 elements of each Key:\n",
    "\n",
    "print('----------------------------------------------------------------------------------------------')\n",
    "print(f'Dos 500 bits iniciais, apenas {len(alice_key)} foram aproveitados para a chave compartilhada.')\n",
    "print('----------------------------------------------------------------------------------------------')\n",
    "\n",
    "\n",
    "print(\"alice_key: \", alice_key[:100])\n",
    "print(\"bob_key: \", bob_key[:100])\n",
    "print(\"Alice's key is equal to Bob's key: \", alice_key == bob_key)"
   ]
  }
 ],
 "metadata": {
  "kernelspec": {
   "display_name": "Python 3",
   "language": "python",
   "name": "python3"
  },
  "language_info": {
   "codemirror_mode": {
    "name": "ipython",
    "version": 3
   },
   "file_extension": ".py",
   "mimetype": "text/x-python",
   "name": "python",
   "nbconvert_exporter": "python",
   "pygments_lexer": "ipython3",
   "version": "3.8.8"
  }
 },
 "nbformat": 4,
 "nbformat_minor": 4
}

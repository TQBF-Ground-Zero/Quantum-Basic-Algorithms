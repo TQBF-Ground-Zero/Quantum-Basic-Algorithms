{
 "cells": [
  {
   "cell_type": "markdown",
   "metadata": {},
   "source": [
    "<div style=\"text-align: center; margin: 50px\">\n",
    "\n",
    "<h3>Quantum Key Distribution</h3>\n",
    "\n",
    "</div>"
   ]
  },
  {
   "cell_type": "markdown",
   "metadata": {},
   "source": [
    "# Overview\n",
    "\n",
    "1. [Introdução](#intro) <br>\n",
    "    1.1 [Quantum Key Distribuit](#layout) <br>\n",
    "    1.2 [Experimento](#specs) <br>\n",
    "2. [Steps in the QKD protocol](#protocol) <br>\n",
    "    2.1 [Step 1: Encode Basis (Alice)](#step1) <br>\n",
    "    2.2 [Step 2: Measurement Basis (Bob)](#step2) <br>\n",
    "    2.3 [Step 3: Encode (Alice prepara estado)](#step3)  <br>\n",
    "    2.4 [Step 4: Send (Alice envia estado)](#step4)  <br>"
   ]
  },
  {
   "cell_type": "markdown",
   "metadata": {},
   "source": [
    "<a id=\"intro\"></a>\n",
    "# Introdução\n",
    "\n",
    "**O que é distribuição de chaves?** A comunicação segura consiste na habilidade de encriptar a mensagem que se deseja enviar de uma maneira que o receptor possa decriptar, mas que seja impossível para algum espião descobrir a mensagem.\n",
    "\n",
    "Em nosso problema:\n",
    "\n",
    "- **Alice** envia a mensagem. (transmissor)\n",
    "- **Bob** recebe a mensagem. (receptor)\n",
    "\n",
    "A segurança é geralmente é feita com o uso de uma **chave**, a qual é conhecida somente pelo transmissor e receptor da mensagem.\n",
    "\n",
    "Se a chave pode **ser distribuída com segurança** entre o trasmissor e o receptor, a mensagem criptografada pode ser enviada com segurança por meio de um canal público de comunicação. Sem a chave,  a probabilidade de descriptografar com êxito a mensagem é praticamente zero.\n",
    "\n",
    "\n",
    "Em geral, **a chave é somente um bitstring** - uma sequência de 0s e 1s, e só somente é conhecida por Alice e Bob, as duas partes que estao se comunicando.\n",
    "\n",
    "Portanto, o problema da comunicação segura consiste em para garantir a distribuição chave, de maneira segura. Quantum Key Distribution é única porque a segurança contra espiões é garantida pelas próprias leis da mecânica quântica. A garantia de segunraça nos protocolos atuais, consistes na complexidade computacional de certas funções, as quais são utilizadas nas distribuicóes de chaves clássicas.\n",
    "\n",
    "Vamos implementar um QKD usando qiskit, baseado no protocolo BB84.\n"
   ]
  },
  {
   "cell_type": "markdown",
   "metadata": {},
   "source": [
    "<a id=\"layout\"></a>\n",
    "## Quantum Key Distribution\n",
    "\n",
    "O protocolo BB84 consiste em:\n",
    "\n",
    "1. `Selecionar Base de Alice (ENCODE BASIS)`: Alice aleatoriamente seleciona a base ( × or + ) para codificar o qubit.\n",
    "2. `Selecione a Base de Bob (DECODE BASIS`: Bob aleatoriamente seleciona uma base ( × or + ) para medir cada qubit.\n",
    "3. `ENCODE`: Alice cria um estado quantico, encripta na base selecionada.\n",
    "4. `SEND`: Alice envia a Bob o estado codificado via um canal quantico de comunicação. \n",
    "5. `MEASURE`: Bob mede todos os estados quânticos em sua base de medida pré-selecionada.\n",
    "6. `ANNOUNCE BASIS`: Alice anuncia, via um canal clássico de comunicação, quais bases ela usou para codificar cada qubit.\n",
    "7. `FIND SYMMETRIC KEY`: Alice e Bob descartam bits em sua chave em que eles usaram diferentes bases de encoding e docoding. \n",
    "\n",
    "Estes 7 passos permitem uma chave ser distribuída entre Alice e Bob de maneira completamente segura. Estando garantido que Alice e Bob podem se comunicar por meio de um canal seguro.\n"
   ]
  },
  {
   "cell_type": "code",
   "execution_count": 1,
   "metadata": {},
   "outputs": [],
   "source": [
    "from random import getrandbits\n",
    "from qiskit import *"
   ]
  },
  {
   "cell_type": "markdown",
   "metadata": {},
   "source": [
    "<a id=\"specs\"></a>\n",
    "## 1.2 Experimento\n",
    "\n",
    "Tamanho da chave (número de bits) 500\n",
    "\n",
    "Em uma implementação real disso, os fótons físicos serão enviado via fibra óptica para Bob (step 4). Infelizmente, não conseguimos fazer isso no laboratório, então, ao invés disso, podemos representar os fótons sendo transportados colocando-os em um `QUANTUM_CHANNEL` - isso é: uma lista do python.\n",
    "\n",
    "Similarmente, precisaremos representar o canal clássico de comunicação, o que na vida real poderia ser cabos enviando sinais elétricos, por meio dos quais, Alice irá anunciar sua base (step 6). Podemos representar isso, novamente, usando uma lista em python.\n",
    "\n",
    "Podemos supor que `CLASSICAL_CHANNEL` é inseguro, e contudo,  está sujeito a ataques de hackers."
   ]
  },
  {
   "cell_type": "code",
   "execution_count": 2,
   "metadata": {},
   "outputs": [],
   "source": [
    "KEY_LENGTH = 500\n",
    "QUANTUM_CHANNEL = []\n",
    "CLASSICAL_CHANNEL = []"
   ]
  },
  {
   "cell_type": "markdown",
   "metadata": {},
   "source": [
    "<a id=\"protocol\"></a>\n",
    "# 2. Steps in the QKD protocol\n",
    "\n",
    "Implementando QKD Step by Step"
   ]
  },
  {
   "cell_type": "markdown",
   "metadata": {},
   "source": [
    "<a id=\"step1\"></a>\n",
    "## Step 1: Encode Basis (Alice)\n",
    "\n",
    "Alice necessita selecionar aleatoriamente um bit para chave e um bit para base. O bit da base será utilizado para codificar o bit da chave.\n"
   ]
  },
  {
   "cell_type": "code",
   "execution_count": 3,
   "metadata": {},
   "outputs": [
    {
     "data": {
      "text/plain": [
       "1"
      ]
     },
     "execution_count": 3,
     "metadata": {},
     "output_type": "execute_result"
    }
   ],
   "source": [
    "getrandbits(1)"
   ]
  },
  {
   "cell_type": "code",
   "execution_count": 4,
   "metadata": {},
   "outputs": [],
   "source": [
    "def Alice_encode(length):\n",
    "    \n",
    "    #Armazena o estado que a Alice irá codificar\n",
    "    alice_bitstring = \"\"\n",
    "    #Armazena as bases que Alice usará para codificar o estado\n",
    "    alice_bases = \"\"\n",
    "    \n",
    "    for i in range(length):\n",
    "        \n",
    "        # A função getrandbits é utilizada para obter 0 ou 1 aleatoriamente, o argumento 1 na funçao\n",
    "        # está associado ao limite superior dos número produzido aleatoriamente\n",
    "        alice_bitstring += (str(getrandbits(1)))\n",
    "        \n",
    "        # o resultado 0 significa codificar a chave na base (0,1) e 1 significa codifica na base (+,-)\n",
    "        alice_bases += (str(getrandbits(1))) #gera 0 ou 1 aleatoriamente\n",
    "    \n",
    "    # return the string of bits and the list of bases they should be encoded in\n",
    "    return alice_bitstring, alice_bases"
   ]
  },
  {
   "cell_type": "markdown",
   "metadata": {},
   "source": [
    "#### Criar a key da Alice e bitstring da Base da Alice\n",
    "\n",
    "Vamos criar `alice_key` and `alice_basis`"
   ]
  },
  {
   "cell_type": "code",
   "execution_count": 5,
   "metadata": {
    "scrolled": true
   },
   "outputs": [
    {
     "name": "stdout",
     "output_type": "stream",
     "text": [
      "alice_key:  1001001111110010100101110110001011011101010111101110010011110101010101110011000001111110100000001001\n",
      "alice_bases:  0010111111100110011101011001101011110010011111010101001101010011110010000000111001011000011011010100\n"
     ]
    }
   ],
   "source": [
    "alice_bitstring, alice_basis = Alice_encode(KEY_LENGTH)\n",
    "\n",
    "# Preview the first 10 elements of each:\n",
    "print(\"alice_key: \", alice_bitstring[:100])\n",
    "print(\"alice_bases: \", alice_basis[:100])"
   ]
  },
  {
   "cell_type": "markdown",
   "metadata": {},
   "source": [
    "<a id=\"step2\"></a>\n",
    "## Step 2: Measurement Basis (Bob)\n",
    "\n",
    "Bob necessita selecionar aleatoriamente a base a qual irá medir cada qubit.\n"
   ]
  },
  {
   "cell_type": "code",
   "execution_count": 6,
   "metadata": {},
   "outputs": [],
   "source": [
    "def Bob_meas(length):\n",
    "    bob_basis = \"\"\n",
    "    \n",
    "    for i in range(length):\n",
    "        bob_basis += (str(getrandbits(1)))\n",
    "        \n",
    "    return bob_basis"
   ]
  },
  {
   "cell_type": "markdown",
   "metadata": {},
   "source": [
    "#### Criar  Measurement Basis selecionado por Bob\n",
    "\n",
    "Vamos criar `bob_basis` list\n"
   ]
  },
  {
   "cell_type": "code",
   "execution_count": 7,
   "metadata": {},
   "outputs": [
    {
     "name": "stdout",
     "output_type": "stream",
     "text": [
      "selected_measurements:  0111011011100111100000100100100111001010100010001000101100000110100010110000100011100111101010011001\n"
     ]
    }
   ],
   "source": [
    "bob_basis = Bob_meas(KEY_LENGTH)\n",
    "\n",
    "# Preview the first 10 elements of each:\n",
    "print(\"selected_measurements: \", bob_basis[:100])"
   ]
  },
  {
   "cell_type": "markdown",
   "metadata": {},
   "source": [
    "<a id=\"step3\"></a>\n",
    "## Step 3: Encode (Alice prepara estado) \n",
    "\n",
    "Alice agora usa sua lista de random bits para gerar um monte de estados quânticos:\n",
    "\n",
    "Cada bit key e bit basis será utilizado para criar um `QuantumCircuit` específico.\n",
    "\n",
    "A tabela abaixo sumariza o estado do qubit que a Alice envia, baseado na base correspendente. Podemos pensar que Alice tem em posse dela dois qubits de informação, o primeiro qubit decide o estado a ser enviado, e o segundo qubit, decido a base em que ela vai medir o estado. $\\vert 00\\rangle$, $\\vert 01\\rangle$, $\\vert 10\\rangle$, $\\vert 11 \\rangle$.\n",
    "\n",
    "| Bit in Alice's `alice_key` | Corresponding bit in `alice_basis` | Encoding basis | Qubit state sent |\n",
    "|:----------------:|:--------------------------:|:--------------------------:|:---------------:|\n",
    "| 0 | 0 | $$|0\\rangle,|1\\rangle$$ |$$|0\\rangle$$ |\n",
    "| 0 | 1 | $$|+\\rangle,|-\\rangle$$ |$$|+\\rangle$$ |\n",
    "| 1 | 0 | $$|0\\rangle,|1\\rangle$$ |$$|1\\rangle$$ |\n",
    "| 1 | 1 | $$|+\\rangle,|-\\rangle$$ |$$|-\\rangle$$ |"
   ]
  },
  {
   "cell_type": "code",
   "execution_count": 8,
   "metadata": {},
   "outputs": [
    {
     "name": "stdout",
     "output_type": "stream",
     "text": [
      "1, 0\n"
     ]
    },
    {
     "data": {
      "text/plain": [
       "[<qiskit.circuit.quantumcircuit.QuantumCircuit at 0x7f96c84129d0>,\n",
       " <qiskit.circuit.quantumcircuit.QuantumCircuit at 0x7f96c8412670>,\n",
       " <qiskit.circuit.quantumcircuit.QuantumCircuit at 0x7f96c8412790>,\n",
       " <qiskit.circuit.quantumcircuit.QuantumCircuit at 0x7f96ebaca700>]"
      ]
     },
     "execution_count": 8,
     "metadata": {},
     "output_type": "execute_result"
    }
   ],
   "source": [
    "def encode(alice_bitstring, alice_basis):\n",
    "    encoded_qubits = []\n",
    "    \n",
    "    for i in range(len(alice_bitstring)):\n",
    "        #Criando Circuito Quântico\n",
    "        qc = QuantumCircuit(1,1)\n",
    "\n",
    "        if alice_basis[i] == \"0\":\n",
    "            # Se 0 a base escolhida é |0>, |1> (z basis)\n",
    "            if alice_bitstring[i] == \"0\":\n",
    "                # Se 0, o estado enviado será |0>\n",
    "                # Como o circuito quântico, por default é inicialiado em|0> não precisamos fazer nada\n",
    "                pass\n",
    "                \n",
    "            elif alice_bitstring[i] == \"1\":\n",
    "                # Se 1, precisamos gerar o estado |1>\n",
    "                # Para isso aplicamos x no qubit |1>\n",
    "                qc.x(0)\n",
    "\n",
    "        elif alice_basis[i] == \"1\":\n",
    "            # 1 Means we are encoding in the x basis\n",
    "            if alice_bitstring[i] == \"0\":\n",
    "                # We apply an H gate to generate |+>\n",
    "                qc.h(0)\n",
    "            elif alice_bitstring[i] == \"1\":\n",
    "                # We apply an X and an H gate to generate |->\n",
    "                qc.x(0)\n",
    "                qc.h(0)\n",
    "\n",
    "        # add this quantum circuit to the list of encoded_qubits\n",
    "        encoded_qubits.append(qc)\n",
    "    return encoded_qubits\n",
    "\n",
    "print(f'{alice_bitstring[0]}, {alice_basis[0]}')\n",
    "len(encode(alice_bitstring, alice_basis))\n",
    "encode(alice_bitstring, alice_basis)[:4]"
   ]
  },
  {
   "cell_type": "markdown",
   "metadata": {},
   "source": [
    "### Create Alice's encoded_qubits"
   ]
  },
  {
   "cell_type": "code",
   "execution_count": 9,
   "metadata": {
    "scrolled": true
   },
   "outputs": [
    {
     "data": {
      "image/png": "[encoded data removed]",
      "text/plain": [
       "<Figure size 133.526x144.48 with 1 Axes>"
      ]
     },
     "metadata": {},
     "output_type": "display_data"
    },
    {
     "data": {
      "image/png": "[encoded data removed]",
      "text/plain": [
       "<Figure size 103.426x144.48 with 1 Axes>"
      ]
     },
     "metadata": {},
     "output_type": "display_data"
    },
    {
     "data": {
      "image/png": "[encoded data removed]",
      "text/plain": [
       "<Figure size 133.526x144.48 with 1 Axes>"
      ]
     },
     "metadata": {},
     "output_type": "display_data"
    },
    {
     "data": {
      "image/png": "[encoded data removed]",
      "text/plain": [
       "<Figure size 133.526x144.48 with 1 Axes>"
      ]
     },
     "metadata": {},
     "output_type": "display_data"
    },
    {
     "data": {
      "image/png": "[encoded data removed]",
      "text/plain": [
       "<Figure size 133.526x144.48 with 1 Axes>"
      ]
     },
     "metadata": {},
     "output_type": "display_data"
    },
    {
     "data": {
      "image/png": "[encoded data removed]",
      "text/plain": [
       "<Figure size 133.526x144.48 with 1 Axes>"
      ]
     },
     "metadata": {},
     "output_type": "display_data"
    },
    {
     "data": {
      "image/png": "[encoded data removed]",
      "text/plain": [
       "<Figure size 193.726x144.48 with 1 Axes>"
      ]
     },
     "metadata": {},
     "output_type": "display_data"
    },
    {
     "data": {
      "image/png": "[encoded data removed]",
      "text/plain": [
       "<Figure size 193.726x144.48 with 1 Axes>"
      ]
     },
     "metadata": {},
     "output_type": "display_data"
    },
    {
     "data": {
      "image/png": "[encoded data removed]",
      "text/plain": [
       "<Figure size 193.726x144.48 with 1 Axes>"
      ]
     },
     "metadata": {},
     "output_type": "display_data"
    },
    {
     "data": {
      "image/png": "[encoded data removed]",
      "text/plain": [
       "<Figure size 193.726x144.48 with 1 Axes>"
      ]
     },
     "metadata": {},
     "output_type": "display_data"
    }
   ],
   "source": [
    "#Criando um circuito para cada par alice_key, alice_basis\n",
    "encoded_qubits = encode(alice_bitstring, alice_basis)\n",
    "for qc in encoded_qubits[:10]:\n",
    "    display(qc.draw('mpl'))"
   ]
  },
  {
   "cell_type": "markdown",
   "metadata": {},
   "source": [
    "<a id=\"step4\"></a>\n",
    "## Step 4: Send (Alice Envia)\n",
    "\n",
    "Alice envia os qubits codificados a Bob utilizando um `QUANTUM_CHANNEL`. \n",
    "\n",
    "No problema real, Alice envia seus qubits via fibra óptica (por exemplo), que poderia ser o canal quântico.\n",
    "Aqui, nós somente copiamos o qubit codificado na variável `QUANTUM_CHANNEL`."
   ]
  },
  {
   "cell_type": "code",
   "execution_count": 10,
   "metadata": {},
   "outputs": [],
   "source": [
    "# Alice Sends Bob her encoded qubits over the quantum_channel\n",
    "QUANTUM_CHANNEL = encoded_qubits"
   ]
  },
  {
   "cell_type": "markdown",
   "metadata": {},
   "source": [
    "<a id=\"takeaways\"></a>\n",
    "# 3. Resumo\n",
    "\n",
    "1. Distribuição de Chaves é um passo essencial na segurança da comunicação - isso assegura que Alice e Bobo podem codificar e decodificar a mensagem, mas um hacker não pode.\n",
    "\n",
    "2. Quantum Key Distribution funciona basicamente com três passos:\n",
    "    * Alice gera uma sequência de qubits e envia para Bob.\n",
    "    * Bob mede os qubits recebidos. \n",
    "    * Alice and Bob comparam as bases escolhidas e ficam com bits cuja a escolha das bases coicidem.\n"
   ]
  },
  {
   "cell_type": "markdown",
   "metadata": {},
   "source": [
    "<a id=\"frr\"></a>\n",
    "# Leituras Adicionais\n",
    "\n",
    "1. [Qiskit textbook page on QKD, including QKD with eavesdropping](https://qiskit.org/textbook/ch-algorithms/quantum-key-distribution.html)\n",
    "2. [Prospects for large scale QKD](https://arxiv.org/ftp/arxiv/papers/1809/1809.02291.pdf)\n",
    "3. [Free online quantum learning opportunities](https://quantumapalooza.com/)\n",
    "4. [Videos on basic QIS concepts](https://www.quantumworlddetangled.com/)\n",
    "5. [Statistics on QIS technology](https://qisdata.com/)"
   ]
  },
  {
   "cell_type": "markdown",
   "metadata": {},
   "source": [
    "<a id=\"optional\"></a>\n",
    "# QKD Avançado - usando qiskit"
   ]
  },
  {
   "cell_type": "markdown",
   "metadata": {},
   "source": [
    "<a id=\"step5\"></a>\n",
    "## Step 5: Measure (Bob)\n",
    "\n",
    "Bob mede os qubits em uma base aleatória, escolhida na parte 2."
   ]
  },
  {
   "cell_type": "code",
   "execution_count": 11,
   "metadata": {},
   "outputs": [],
   "source": [
    "def measure(bob_bases, encoded_qubits, backend):\n",
    "    # Realiza a medida o estado que Alice Enviou\n",
    "    # Seleciona a base de medida (aleatoriamente): \n",
    "    # encoded_qubits: lista de circuitos que Alice enviou\n",
    "    # backend: IBMQ backend, either simulation or hardware\n",
    "    \n",
    "    bob_bitstring = ''\n",
    "    \n",
    "    for i in range(len(encoded_qubits)):\n",
    "        qc = encoded_qubits[i]\n",
    "        \n",
    "        if bob_bases[i] == \"0\":\n",
    "            # 0 means we want to measure in Z basis\n",
    "            qc.measure(0,0)\n",
    "\n",
    "        elif bob_bases[i] == \"1\":\n",
    "            # 1 means we want to measure in X basis\n",
    "            qc.h(0)\n",
    "            qc.measure(0,0)\n",
    "        \n",
    "        # Now that the measurements have been added to the circuit, let's run them.\n",
    "        job = execute(qc, backend=backend, shots = 1) # increase shots if running on hardware\n",
    "        results = job.result()\n",
    "        counts = results.get_counts()\n",
    "        measured_bit = max(counts, key=counts.get)\n",
    "\n",
    "        # Append measured bit to Bob's measured bitstring\n",
    "        bob_bitstring += measured_bit \n",
    "        \n",
    "    return bob_bitstring"
   ]
  },
  {
   "cell_type": "markdown",
   "metadata": {},
   "source": [
    "### Para medir os qubits que Bob recebeu de Alice, usamos `qasm_simulator`\n",
    "\n",
    "We will use a simulated backend here but feel free to swap this out later in the extra material"
   ]
  },
  {
   "cell_type": "code",
   "execution_count": 12,
   "metadata": {},
   "outputs": [
    {
     "data": {
      "text/plain": [
       "'11001010111100100000011101110011111101011101101110110100101100010001011000110110110011011100000010011110101100110110111111101011000000100010110001101111001100111011010010010101111000100000100001010011111101000100011001011010111100010011101100001001111110110001101101010011111110010001010001010100001101101000100000000111101101011110100001110001110111000101001110011101011011011000000111110011000010100101100010000100001000010001111010000111101101000110100000110100100001000111011111110011001001110110'"
      ]
     },
     "execution_count": 12,
     "metadata": {},
     "output_type": "execute_result"
    }
   ],
   "source": [
    "sim_backend = Aer.get_backend('qasm_simulator')\n",
    "\n",
    "bob_bitstring = measure(bob_basis, QUANTUM_CHANNEL, sim_backend)\n",
    "\n",
    "bob_bitstring"
   ]
  },
  {
   "cell_type": "markdown",
   "metadata": {},
   "source": [
    "<a id=\"step6\"></a>\n",
    "## Step 6: Announce Basis\n",
    "\n",
    "Alice announces which basis she used to encode each qubit via the `CLASSICAL_CHANNEL`"
   ]
  },
  {
   "cell_type": "code",
   "execution_count": 13,
   "metadata": {},
   "outputs": [
    {
     "data": {
      "text/plain": [
       "'00101111111001100111010110011010111100100111110101010011010100111100100000001110010110000110110101001101111001001001011101101100100101000011011100011100000111010000111101101111111100010000010110011110000011010101001001011011001111010100100110001000110010001001110110000000110110011110111000111000000001111010010110010011110111011100001010011010000110110000111111110110000011000100000100001101001110111101011010010010110000010001000111101101010101011001010000110011011100100011101100010100010001010100'"
      ]
     },
     "execution_count": 13,
     "metadata": {},
     "output_type": "execute_result"
    }
   ],
   "source": [
    "# Alice sends the list of bases used to create her encoded qubits to bob over the classical channel\n",
    "CLASSICAL_CHANNEL = alice_basis\n",
    "alice_basis"
   ]
  },
  {
   "cell_type": "markdown",
   "metadata": {},
   "source": [
    "<a id=\"step7\"></a>\n",
    "## Step 7: Achar Chave Simétrica\n",
    "\n",
    "Agora que Alice anunciou qual base ela usou para encriptar sua chave, Bob pode verificar na sua lista de escolhas quantas vezes eles escolheram a base igual. \n",
    "\n",
    "`As posições onde eles usaram a mesma base são mantidas, e aquelas que as bases foram diferentes, deverão ser descartadas`\n"
   ]
  },
  {
   "cell_type": "code",
   "execution_count": 14,
   "metadata": {},
   "outputs": [],
   "source": [
    "def bob_compare_bases(alices_basis, bobs_basis):\n",
    "    indices = []\n",
    "    \n",
    "    for i in range(len(alices_basis)):\n",
    "        if alices_basis[i] == bobs_basis[i]:\n",
    "            indices.append(i)\n",
    "    return indices"
   ]
  },
  {
   "cell_type": "markdown",
   "metadata": {},
   "source": [
    "#### Agora que Bob conhece as bases escolhidas por Alice para codificar os qubits, ele pode comparar quais bases ele acertou e enviar para Alice as `posições` que ele acertou (na ordem de envio dos qubits)."
   ]
  },
  {
   "cell_type": "code",
   "execution_count": 15,
   "metadata": {},
   "outputs": [
    {
     "data": {
      "text/plain": [
       "[0,\n",
       " 2,\n",
       " 5,\n",
       " 6,\n",
       " 8,\n",
       " 9,\n",
       " 10,\n",
       " 11,\n",
       " 12,\n",
       " 13,\n",
       " 14,\n",
       " 20,\n",
       " 26,\n",
       " 28,\n",
       " 29,\n",
       " 32,\n",
       " 33,\n",
       " 37,\n",
       " 38,\n",
       " 39,\n",
       " 44,\n",
       " 46,\n",
       " 50,\n",
       " 53,\n",
       " 54,\n",
       " 55,\n",
       " 56,\n",
       " 58,\n",
       " 60,\n",
       " 62,\n",
       " 64,\n",
       " 66,\n",
       " 67,\n",
       " 68,\n",
       " 69,\n",
       " 72,\n",
       " 73,\n",
       " 74,\n",
       " 75,\n",
       " 76,\n",
       " 79,\n",
       " 81,\n",
       " 90,\n",
       " 91,\n",
       " 92,\n",
       " 94,\n",
       " 95,\n",
       " 98,\n",
       " 100,\n",
       " 101,\n",
       " 105,\n",
       " 106,\n",
       " 107,\n",
       " 108,\n",
       " 111,\n",
       " 112,\n",
       " 113,\n",
       " 114,\n",
       " 115,\n",
       " 116,\n",
       " 117,\n",
       " 118,\n",
       " 121,\n",
       " 122,\n",
       " 123,\n",
       " 124,\n",
       " 126,\n",
       " 127,\n",
       " 128,\n",
       " 130,\n",
       " 132,\n",
       " 134,\n",
       " 135,\n",
       " 136,\n",
       " 137,\n",
       " 138,\n",
       " 142,\n",
       " 143,\n",
       " 145,\n",
       " 148,\n",
       " 149,\n",
       " 150,\n",
       " 152,\n",
       " 156,\n",
       " 157,\n",
       " 159,\n",
       " 161,\n",
       " 162,\n",
       " 163,\n",
       " 165,\n",
       " 166,\n",
       " 167,\n",
       " 169,\n",
       " 170,\n",
       " 171,\n",
       " 173,\n",
       " 174,\n",
       " 181,\n",
       " 184,\n",
       " 186,\n",
       " 187,\n",
       " 188,\n",
       " 192,\n",
       " 193,\n",
       " 194,\n",
       " 195,\n",
       " 196,\n",
       " 198,\n",
       " 201,\n",
       " 202,\n",
       " 203,\n",
       " 206,\n",
       " 208,\n",
       " 209,\n",
       " 212,\n",
       " 215,\n",
       " 217,\n",
       " 220,\n",
       " 222,\n",
       " 223,\n",
       " 226,\n",
       " 227,\n",
       " 229,\n",
       " 231,\n",
       " 232,\n",
       " 234,\n",
       " 235,\n",
       " 240,\n",
       " 243,\n",
       " 246,\n",
       " 250,\n",
       " 253,\n",
       " 255,\n",
       " 256,\n",
       " 257,\n",
       " 258,\n",
       " 261,\n",
       " 264,\n",
       " 266,\n",
       " 269,\n",
       " 270,\n",
       " 271,\n",
       " 275,\n",
       " 278,\n",
       " 279,\n",
       " 282,\n",
       " 283,\n",
       " 284,\n",
       " 288,\n",
       " 289,\n",
       " 291,\n",
       " 293,\n",
       " 295,\n",
       " 306,\n",
       " 308,\n",
       " 309,\n",
       " 311,\n",
       " 312,\n",
       " 314,\n",
       " 317,\n",
       " 319,\n",
       " 321,\n",
       " 322,\n",
       " 323,\n",
       " 324,\n",
       " 327,\n",
       " 330,\n",
       " 332,\n",
       " 337,\n",
       " 340,\n",
       " 342,\n",
       " 344,\n",
       " 345,\n",
       " 346,\n",
       " 347,\n",
       " 348,\n",
       " 350,\n",
       " 352,\n",
       " 358,\n",
       " 359,\n",
       " 360,\n",
       " 361,\n",
       " 363,\n",
       " 365,\n",
       " 371,\n",
       " 372,\n",
       " 374,\n",
       " 376,\n",
       " 377,\n",
       " 378,\n",
       " 380,\n",
       " 382,\n",
       " 383,\n",
       " 387,\n",
       " 389,\n",
       " 390,\n",
       " 391,\n",
       " 394,\n",
       " 395,\n",
       " 397,\n",
       " 401,\n",
       " 403,\n",
       " 405,\n",
       " 408,\n",
       " 416,\n",
       " 417,\n",
       " 419,\n",
       " 420,\n",
       " 422,\n",
       " 424,\n",
       " 425,\n",
       " 426,\n",
       " 429,\n",
       " 433,\n",
       " 434,\n",
       " 436,\n",
       " 437,\n",
       " 438,\n",
       " 439,\n",
       " 441,\n",
       " 449,\n",
       " 456,\n",
       " 458,\n",
       " 459,\n",
       " 461,\n",
       " 462,\n",
       " 463,\n",
       " 464,\n",
       " 468,\n",
       " 469,\n",
       " 475,\n",
       " 476,\n",
       " 478,\n",
       " 480,\n",
       " 481,\n",
       " 484,\n",
       " 485,\n",
       " 486,\n",
       " 487,\n",
       " 488,\n",
       " 489,\n",
       " 492,\n",
       " 498,\n",
       " 499]"
      ]
     },
     "execution_count": 15,
     "metadata": {},
     "output_type": "execute_result"
    }
   ],
   "source": [
    "agreeing_basis = bob_compare_bases(CLASSICAL_CHANNEL, bob_basis)\n",
    "agreeing_basis"
   ]
  },
  {
   "cell_type": "code",
   "execution_count": 16,
   "metadata": {},
   "outputs": [],
   "source": [
    "# Bob envia a lista de posições que deram match, via um canal clássico\n",
    "CLASSICAL_CHANNEL = agreeing_basis"
   ]
  },
  {
   "cell_type": "markdown",
   "metadata": {},
   "source": [
    "#### Bob e Alice sabem todas as posições em que eles usaram a mesma base. Eles então `DESCARTAM` todo bit que em que eles usaram bases diferentes. Com isso eles terão uma chave compartilhada e poderão utilizar essa chave para se comunicarem de maneira segura."
   ]
  },
  {
   "cell_type": "code",
   "execution_count": 17,
   "metadata": {},
   "outputs": [],
   "source": [
    "def construct_key_from_indices(bitstring, indices):\n",
    "    key = ''\n",
    "    for idx in indices:\n",
    "        # For the indices where bases match, the bitstring bit is added to the key\n",
    "        key = key + bitstring[idx] \n",
    "    return key"
   ]
  },
  {
   "cell_type": "code",
   "execution_count": 18,
   "metadata": {
    "scrolled": true
   },
   "outputs": [
    {
     "name": "stdout",
     "output_type": "stream",
     "text": [
      "----------------------------------------------------------------------------------------------\n",
      "Dos 500 bits iniciais, apenas 244 foram aproveitados para a chave compartilhada.\n",
      "----------------------------------------------------------------------------------------------\n",
      "alice_key:  1001111100101001110111110011000010100110010000001101101011011111011100010001001111000101110000110000\n",
      "bob_key:  1001111100101001110111110011000010100110010000001101101011011111011100010001001111000101110000110000\n",
      "Alice's key is equal to Bob's key:  True\n"
     ]
    }
   ],
   "source": [
    "\n",
    "alice_key = construct_key_from_indices(alice_bitstring, CLASSICAL_CHANNEL)\n",
    "bob_key = construct_key_from_indices(bob_bitstring, agreeing_basis)\n",
    "\n",
    "# Preview the first 100 elements of each Key:\n",
    "\n",
    "print('----------------------------------------------------------------------------------------------')\n",
    "print(f'Dos 500 bits iniciais, apenas {len(alice_key)} foram aproveitados para a chave compartilhada.')\n",
    "print('----------------------------------------------------------------------------------------------')\n",
    "\n",
    "\n",
    "print(\"alice_key: \", alice_key[:100])\n",
    "print(\"bob_key: \", bob_key[:100])\n",
    "print(\"Alice's key is equal to Bob's key: \", alice_key == bob_key)"
   ]
  }
 ],
 "metadata": {
  "kernelspec": {
   "display_name": "Python [conda env:py39]",
   "language": "python",
   "name": "conda-env-py39-py"
  },
  "language_info": {
   "codemirror_mode": {
    "name": "ipython",
    "version": 3
   },
   "file_extension": ".py",
   "mimetype": "text/x-python",
   "name": "python",
   "nbconvert_exporter": "python",
   "pygments_lexer": "ipython3",
   "version": "3.9.7"
  }
 },
 "nbformat": 4,
 "nbformat_minor": 4
}

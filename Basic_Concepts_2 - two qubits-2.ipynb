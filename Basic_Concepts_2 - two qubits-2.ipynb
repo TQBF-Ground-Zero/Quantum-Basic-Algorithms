{
 "cells": [
  {
   "cell_type": "markdown",
   "id": "376976da",
   "metadata": {},
   "source": []
  },
  {
   "cell_type": "code",
   "execution_count": 9,
   "id": "e6c1151e",
   "metadata": {},
   "outputs": [
    {
     "name": "stderr",
     "output_type": "stream",
     "text": [
      "ibmqfactory.load_account:WARNING:2021-06-01 13:30:18,867: Credentials are already in use. The existing account in the session will be replaced.\n"
     ]
    }
   ],
   "source": [
    "import numpy as np\n",
    "# Importing standard Qiskit libraries\n",
    "from qiskit import *\n",
    "from qiskit import QuantumCircuit, transpile, Aer, IBMQ\n",
    "from qiskit.tools.jupyter import *\n",
    "from qiskit.visualization import *\n",
    "from ibm_quantum_widgets import *\n",
    "from qiskit_textbook.tools import array_to_latex\n",
    "\n",
    "\n",
    "\n",
    "# Loading your IBM Quantum account(s)\n",
    "provider = IBMQ.load_account()"
   ]
  },
  {
   "cell_type": "markdown",
   "id": "c6ff6e64",
   "metadata": {},
   "source": [
    "# Estados de dois qubits\n",
    "\n",
    "Colocando estado de dois qubits em superposição.\n",
    "\n",
    "1. Estado inicial:\n",
    "$$\n",
    "\\vert \\psi_0 \\rangle = \\vert 00 \\rangle\n",
    "$$\n",
    "\n",
    "2. Aplicar Hadamard em ambos os qubits:\n",
    "\n",
    "$\n",
    "\\vert \\psi_1 \\rangle = H^{\\otimes^2}\\vert 00 \\rangle\n",
    "$\n",
    "\n",
    "$\n",
    "\\vert \\psi_1 \\rangle = H\\vert 0 \\rangle\\otimes  H\\vert 0 \\rangle\n",
    "$\n",
    "\n",
    "$\n",
    "\\vert \\psi_1 \\rangle = \\frac{1}{\\sqrt{2}}(\\vert 0 \\rangle + \\vert 1 \\rangle)\\otimes \\frac{1}{\\sqrt{2}}(\\vert 0 \\rangle + \\vert 1 \\rangle)\n",
    "$\n",
    "\n",
    "$\n",
    "\\vert \\psi_1 \\rangle = \\displaystyle\\frac{1}{2} (\\vert 00 \\rangle + \\vert 01 \\rangle + \\vert 10 \\rangle + \\vert 11 \\rangle)\n",
    "$\n",
    "\n",
    "Outra forma de representar esse estado é:\n",
    "<center>\n",
    "$\n",
    "\\vert \\psi_1 \\rangle = \\displaystyle\\frac{1}{2} \\left[\\begin{matrix}\\vert 00 \\rangle \\\\ \\vert 01 \\rangle \\\\ \\vert 10 \\rangle \\\\ \\vert 11 \\rangle\\end{matrix}\\right] \\equiv \\left[\\begin{matrix} 1/2 \\\\ 1/2 \\\\ 1/2\\\\ 1/2\\end{matrix}\\right]\n",
    "$\n",
    "</center>\n",
    "\n",
    "Lembrando que a ordem do qiskit é $\\vert q_1q_0\\rangle$\n",
    "\n",
    "<center>\n",
    "$\n",
    "\\vert \\psi_1 \\rangle = \\displaystyle\\frac{1}{2} \\left[\\begin{matrix}\\vert 00 \\rangle \\\\ \\vert 10 \\rangle \\\\ \\vert 01 \\rangle \\\\ \\vert 11 \\rangle\\end{matrix}\\right] \\equiv \\left[\\begin{matrix} 1/2 \\\\ 1/2 \\\\ 1/2\\\\ 1/2\\end{matrix}\\right]\n",
    "$\n",
    "</center>\n",
    "\n",
    "\n",
    "## **Cada estado tem a mesma probabilidade de ser medido** \n",
    "\n",
    "$$p(\\vert q_i,q_j\\rangle) = \\displaystyle \\left(\\frac{1}{2}\\right)^2 = 0.25$$\n",
    "\n",
    " \n",
    "**<center>A mecânica quântica é uma TEORIA PROBABILÍSTICA</center>**\n",
    "\n",
    "\n",
    "\n",
    "\n"
   ]
  },
  {
   "cell_type": "markdown",
   "id": "4c548318",
   "metadata": {},
   "source": [
    "1. Construindo nosso circuito - superposição estados de dois qubits. Abaixo mostramos a visualização desse estado usando qiskit"
   ]
  },
  {
   "cell_type": "code",
   "execution_count": 10,
   "id": "ddebb9d3",
   "metadata": {},
   "outputs": [
    {
     "data": {
      "image/png": "[encoded data removed]",
      "text/plain": [
       "<Figure size 146.652x144.48 with 1 Axes>"
      ]
     },
     "metadata": {},
     "output_type": "display_data"
    },
    {
     "data": {
      "image/png": "[encoded data removed]",
      "text/plain": [
       "<Figure size 216x216 with 1 Axes>"
      ]
     },
     "metadata": {},
     "output_type": "display_data"
    },
    {
     "data": {
      "text/latex": [
       "$\\displaystyle \n",
       "\\vert \\psi\\rangle = \\begin{bmatrix}\n",
       "\\tfrac{1}{2} \\\\\n",
       "\\tfrac{1}{2} \\\\\n",
       "\\tfrac{1}{2} \\\\\n",
       "\\tfrac{1}{2}\n",
       "\\end{bmatrix}\n",
       "$"
      ],
      "text/plain": [
       "<IPython.core.display.Math object>"
      ]
     },
     "metadata": {},
     "output_type": "display_data"
    }
   ],
   "source": [
    "n = 2\n",
    "qc = QuantumCircuit(n)\n",
    "qc.h(0)\n",
    "qc.h(1)\n",
    "display(qc.draw())\n",
    "'''\n",
    "\n",
    "Executando o circuito acima em um simulador quântico. \n",
    "O resultado irá mostrar a probabilidade de obter um dos 4 estados possivíveis:\n",
    "\n",
    "00, 01, 10 e 11\n",
    "\n",
    "Lembrando que o que conseguimos estrair de informação são os bits clássicos.\n",
    "\n",
    "'''\n",
    "backend = Aer.get_backend('statevector_simulator')\n",
    "results = execute(qc,backend).result().get_counts()\n",
    "state = execute(qc,backend).result().get_statevector()\n",
    "\n",
    "#Gerando o histograma dos resultatos\n",
    "display(plot_histogram(results, figsize = (3,3)))\n",
    "\n",
    "#Mostrando vetor de estado\n",
    "\n",
    "array_to_latex(state, pretext=\"\\\\vert \\psi\\\\rangle = \")"
   ]
  },
  {
   "cell_type": "markdown",
   "id": "39e0e90e",
   "metadata": {},
   "source": [
    "Como podemos ver acima todas as possibilidades $\\{\\vert 00\\rangle, \\vert 01 \\rangle, \\vert 10\\rangle$ e $\\vert 11\\rangle\\}$ aparecem com igual probabilidade.\n",
    "\n",
    "### <center>O que isso significa?</center>\n",
    "\n",
    "<center>1/4 das vezes vamos obter o resultado 00<center>\n",
    "<center>1/4 das vezes vamos obter o resultado 01<center>\n",
    "<center>1/4 das vezes vamos obter o resultado 10<center>\n",
    "<center>1/4 das vezes vamos obter o resultado 11<center>"
   ]
  },
  {
   "cell_type": "markdown",
   "id": "fa33b27a",
   "metadata": {},
   "source": [
    "# Medição -  verificando probabilidades"
   ]
  },
  {
   "cell_type": "code",
   "execution_count": 20,
   "id": "8c19f684",
   "metadata": {},
   "outputs": [
    {
     "data": {
      "image/png": "[encoded data removed]",
      "text/plain": [
       "<Figure size 267.052x204.68 with 1 Axes>"
      ]
     },
     "metadata": {},
     "output_type": "display_data"
    },
    {
     "data": {
      "image/png": "[encoded data removed]",
      "text/plain": [
       "<Figure size 216x216 with 1 Axes>"
      ]
     },
     "metadata": {},
     "output_type": "display_data"
    },
    {
     "name": "stdout",
     "output_type": "stream",
     "text": [
      "O resultado 00 apareceu 20\n",
      "O resultado 01 apareceu 28\n",
      "O resultado 10 apareceu 24\n",
      "O resultado 11 apareceu 28\n"
     ]
    }
   ],
   "source": [
    "n = 2 # número de qubits\n",
    "c = 2 # número de bits (clássicos) \n",
    "\n",
    "#iniciando o circuito com n qubit e c bits\n",
    "qc = QuantumCircuit(n, c)\n",
    "qc.h(0)\n",
    "qc.h(1)\n",
    "\n",
    "#medindo os qubits q0 e q1 e guarando o valor em c0 e c1 (respectivamente)\n",
    "qc.measure(range(n), range(c))\n",
    "display(qc.draw())\n",
    "\n",
    "shots = 100 #quantidade de vezes que realizamos o experimento\n",
    "plots = 1 #numero de plots\n",
    "backend = Aer.get_backend('qasm_simulator')\n",
    "\n",
    "for i in range(plots):\n",
    "    results = execute(qc,backend, shots = shots).result().get_counts()\n",
    "    #Gerando o histograma dos resultatos\n",
    "    display(plot_histogram(results, figsize = (3,3)))\n",
    "print(f\"O resultado 00 apareceu {results['00']}\")\n",
    "print(f\"O resultado 01 apareceu {results['01']}\")\n",
    "print(f\"O resultado 10 apareceu {results['10']}\")\n",
    "print(f\"O resultado 11 apareceu {results['11']}\")"
   ]
  },
  {
   "cell_type": "markdown",
   "id": "b39625e7",
   "metadata": {},
   "source": [
    "# <center>Emaranhamento -  Estados de Bell</center>\n",
    "\n",
    "Quatro possibilidades de estados de Bell (estados emaranhados de dois qubits)\n",
    "<center>1. $\\vert \\psi_1 \\rangle = \\displaystyle\\frac{1}{\\sqrt{2}} (\\vert 00 \\rangle + \\vert 11 \\rangle)$</center>\n",
    "<center>2. $\\vert \\psi_2 \\rangle = \\displaystyle\\frac{1}{\\sqrt{2}} (\\vert 00 \\rangle - \\vert 11 \\rangle)$</center>\n",
    "<center>2. $\\vert \\psi_3 \\rangle = \\displaystyle\\frac{1}{\\sqrt{2}} (\\vert 01 \\rangle + \\vert 10 \\rangle)$</center>\n",
    "<center>2. $\\vert \\psi_4 \\rangle = \\displaystyle\\frac{1}{\\sqrt{2}} (\\vert 01 \\rangle - \\vert 10 \\rangle)$</center>"
   ]
  },
  {
   "cell_type": "markdown",
   "id": "07af495e",
   "metadata": {},
   "source": [
    "Construindo o estado:\n",
    "<center>$\\vert \\psi_1 \\rangle = \\displaystyle\\frac{1}{\\sqrt{2}} (\\vert 00 \\rangle + \\vert 11 \\rangle)$</center>\n",
    "\n"
   ]
  },
  {
   "cell_type": "code",
   "execution_count": 12,
   "id": "037076b6",
   "metadata": {},
   "outputs": [
    {
     "data": {
      "image/png": "[encoded data removed]",
      "text/plain": [
       "<Figure size 216x216 with 1 Axes>"
      ]
     },
     "metadata": {},
     "output_type": "display_data"
    },
    {
     "data": {
      "text/latex": [
       "$\\displaystyle \n",
       "\\vert \\psi \\rangle = \\begin{bmatrix}\n",
       "\\tfrac{1}{\\sqrt{2}} \\\\\n",
       "0 \\\\\n",
       "0 \\\\\n",
       "\\tfrac{1}{\\sqrt{2}}\n",
       "\\end{bmatrix}\n",
       "$"
      ],
      "text/plain": [
       "<IPython.core.display.Math object>"
      ]
     },
     "metadata": {},
     "output_type": "display_data"
    }
   ],
   "source": [
    "n = 2 # número de qubits\n",
    "c = 2 # número de bits (clássicos) \n",
    "\n",
    "#iniciando o circuito com n qubit e c bits\n",
    "qc = QuantumCircuit(n)\n",
    "qc.h(0)\n",
    "qc.cx(0,1)\n",
    "qc.draw()\n",
    "\n",
    "backend = Aer.get_backend('statevector_simulator')\n",
    "results = execute(qc,backend).result().get_counts()\n",
    "display(plot_histogram(results, figsize = (3,3)))\n",
    "state = execute(qc,backend).result().get_statevector()\n",
    "\n",
    "\n",
    "array_to_latex(state, pretext=\"\\\\vert \\psi \\\\rangle = \")\n",
    "\n"
   ]
  },
  {
   "cell_type": "markdown",
   "id": "88bf7fe7",
   "metadata": {},
   "source": [
    "Construindo o estado:\n",
    "<center>$\\vert \\psi_1 \\rangle = \\displaystyle\\frac{1}{\\sqrt{2}} (\\vert 00 \\rangle - \\vert 11 \\rangle)$</center>\n",
    "\n"
   ]
  },
  {
   "cell_type": "code",
   "execution_count": 18,
   "id": "c8fd0312",
   "metadata": {},
   "outputs": [
    {
     "data": {
      "image/png": "[encoded data removed]",
      "text/plain": [
       "<Figure size 216x216 with 1 Axes>"
      ]
     },
     "metadata": {},
     "output_type": "display_data"
    },
    {
     "data": {
      "text/latex": [
       "$\\displaystyle \n",
       "\\vert \\psi \\rangle = \\begin{bmatrix}\n",
       "\\tfrac{1}{\\sqrt{2}} \\\\\n",
       "0 \\\\\n",
       "0 \\\\\n",
       "-\\tfrac{1}{\\sqrt{2}}\n",
       "\\end{bmatrix}\n",
       "$"
      ],
      "text/plain": [
       "<IPython.core.display.Math object>"
      ]
     },
     "metadata": {},
     "output_type": "display_data"
    }
   ],
   "source": [
    "n = 2 # número de qubits\n",
    "c = 2 # número de bits (clássicos) \n",
    "\n",
    "#iniciando o circuito com n qubit e c bits\n",
    "qc = QuantumCircuit(n)\n",
    "# qc.h(0)\n",
    "# qc.z(0)\n",
    "qc.x(0)\n",
    "qc.h(0)\n",
    "qc.cx(0,1)\n",
    "qc.draw()\n",
    "\n",
    "backend = Aer.get_backend('statevector_simulator')\n",
    "results = execute(qc,backend).result().get_counts()\n",
    "display(plot_histogram(results, figsize = (3,3)))\n",
    "state = execute(qc,backend).result().get_statevector()\n",
    "\n",
    "\n",
    "array_to_latex(state, pretext=\"\\\\vert \\psi \\\\rangle = \")"
   ]
  },
  {
   "cell_type": "markdown",
   "id": "270bec90",
   "metadata": {},
   "source": [
    "Construindo o estado:\n",
    "<center>$\\vert \\psi_3 \\rangle = \\displaystyle\\frac{1}{\\sqrt{2}} (\\vert 01 \\rangle + \\vert 10 \\rangle)$</center>\n",
    "\n"
   ]
  },
  {
   "cell_type": "code",
   "execution_count": 15,
   "id": "ef9e0f3e",
   "metadata": {},
   "outputs": [
    {
     "data": {
      "image/png": "[encoded data removed]",
      "text/plain": [
       "<Figure size 216x216 with 1 Axes>"
      ]
     },
     "metadata": {},
     "output_type": "display_data"
    },
    {
     "data": {
      "text/latex": [
       "$\\displaystyle \n",
       "\\vert \\psi \\rangle = \\begin{bmatrix}\n",
       "0 \\\\\n",
       "\\tfrac{1}{\\sqrt{2}} \\\\\n",
       "\\tfrac{1}{\\sqrt{2}} \\\\\n",
       "0\n",
       "\\end{bmatrix}\n",
       "$"
      ],
      "text/plain": [
       "<IPython.core.display.Math object>"
      ]
     },
     "metadata": {},
     "output_type": "display_data"
    }
   ],
   "source": [
    "n = 2 # número de qubits\n",
    "c = 2 # número de bits (clássicos) \n",
    "\n",
    "#iniciando o circuito com n qubit e c bits\n",
    "qc = QuantumCircuit(n)\n",
    "qc.h(0)  #00 + 10\n",
    "qc.x(1) #01 + 11 (0 + 1)* 1\n",
    "qc.cx(0,1) #01 +10 (?)\n",
    "qc.draw()\n",
    "\n",
    "backend = Aer.get_backend('statevector_simulator')\n",
    "results = execute(qc,backend).result().get_counts()\n",
    "display(plot_histogram(results, figsize = (3,3)))\n",
    "state = execute(qc,backend).result().get_statevector()\n",
    "\n",
    "\n",
    "array_to_latex(state, pretext=\"\\\\vert \\psi \\\\rangle = \")"
   ]
  },
  {
   "cell_type": "markdown",
   "id": "f846bd4f",
   "metadata": {},
   "source": [
    "Construindo o estado:\n",
    "<center>$\\vert \\psi_4 \\rangle = \\displaystyle\\frac{1}{\\sqrt{2}} (\\vert 01 \\rangle - \\vert 10 \\rangle)$</center>\n",
    "\n"
   ]
  },
  {
   "cell_type": "code",
   "execution_count": 16,
   "id": "be1e0cfb",
   "metadata": {},
   "outputs": [
    {
     "data": {
      "image/png": "[encoded data removed]",
      "text/plain": [
       "<Figure size 267.052x144.48 with 1 Axes>"
      ]
     },
     "metadata": {},
     "output_type": "display_data"
    },
    {
     "data": {
      "image/png": "[encoded data removed]",
      "text/plain": [
       "<Figure size 216x216 with 1 Axes>"
      ]
     },
     "metadata": {},
     "output_type": "display_data"
    },
    {
     "data": {
      "text/latex": [
       "$\\displaystyle \n",
       "\\vert \\psi \\rangle = \\begin{bmatrix}\n",
       "0 \\\\\n",
       "-\\tfrac{1}{\\sqrt{2}} \\\\\n",
       "\\tfrac{1}{\\sqrt{2}} \\\\\n",
       "0\n",
       "\\end{bmatrix}\n",
       "$"
      ],
      "text/plain": [
       "<IPython.core.display.Math object>"
      ]
     },
     "metadata": {},
     "output_type": "display_data"
    }
   ],
   "source": [
    "n = 2 # número de qubits\n",
    "c = 2 # número de bits (clássicos) \n",
    "\n",
    "#iniciando o circuito com n qubit e c bits\n",
    "qc = QuantumCircuit(n)\n",
    "qc.x(0)\n",
    "qc.h(0)\n",
    "qc.x(1)\n",
    "qc.cx(0,1)\n",
    "display(qc.draw())\n",
    "\n",
    "backend = Aer.get_backend('statevector_simulator')\n",
    "results = execute(qc,backend).result().get_counts()\n",
    "display(plot_histogram(results, figsize = (3,3)))\n",
    "state = execute(qc,backend).result().get_statevector()\n",
    "\n",
    "\n",
    "array_to_latex(state, pretext=\"\\\\vert \\psi \\\\rangle = \")"
   ]
  },
  {
   "cell_type": "markdown",
   "id": "e88c3e69",
   "metadata": {},
   "source": [
    "Estados Emaranhados como recurso de informação"
   ]
  },
  {
   "cell_type": "code",
   "execution_count": null,
   "id": "c12dc109",
   "metadata": {},
   "outputs": [],
   "source": []
  }
 ],
 "metadata": {
  "kernelspec": {
   "display_name": "Python 3",
   "language": "python",
   "name": "python3"
  },
  "language_info": {
   "codemirror_mode": {
    "name": "ipython",
    "version": 3
   },
   "file_extension": ".py",
   "mimetype": "text/x-python",
   "name": "python",
   "nbconvert_exporter": "python",
   "pygments_lexer": "ipython3",
   "version": "3.8.10"
  }
 },
 "nbformat": 4,
 "nbformat_minor": 5
}
